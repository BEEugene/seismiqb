{
 "cells": [
  {
   "cell_type": "code",
   "execution_count": 1,
   "metadata": {},
   "outputs": [
    {
     "name": "stdout",
     "output_type": "stream",
     "text": [
      "Thu Oct  3 10:21:35 2019       \n",
      "+-----------------------------------------------------------------------------+\n",
      "| NVIDIA-SMI 410.78       Driver Version: 410.78       CUDA Version: 10.0     |\n",
      "|-------------------------------+----------------------+----------------------+\n",
      "| GPU  Name        Persistence-M| Bus-Id        Disp.A | Volatile Uncorr. ECC |\n",
      "| Fan  Temp  Perf  Pwr:Usage/Cap|         Memory-Usage | GPU-Util  Compute M. |\n",
      "|===============================+======================+======================|\n",
      "|   0  GeForce GTX 1080    Off  | 00000000:03:00.0 Off |                  N/A |\n",
      "| 30%   55C    P2    52W / 200W |    185MiB /  8119MiB |      0%      Default |\n",
      "+-------------------------------+----------------------+----------------------+\n",
      "|   1  GeForce GTX 1080    Off  | 00000000:04:00.0 Off |                  N/A |\n",
      "|  0%   37C    P8    14W / 200W |    185MiB /  8119MiB |      0%      Default |\n",
      "+-------------------------------+----------------------+----------------------+\n",
      "|   2  GeForce GTX 1080    Off  | 00000000:07:00.0 Off |                  N/A |\n",
      "|  0%   37C    P8    14W / 200W |    185MiB /  8119MiB |      0%      Default |\n",
      "+-------------------------------+----------------------+----------------------+\n",
      "|   3  GeForce GTX 1080    Off  | 00000000:08:00.0 Off |                  N/A |\n",
      "|  0%   43C    P8    15W / 200W |    185MiB /  8119MiB |      0%      Default |\n",
      "+-------------------------------+----------------------+----------------------+\n",
      "|   4  GeForce GTX 1080    Off  | 00000000:83:00.0 Off |                  N/A |\n",
      "|  0%   38C    P8    14W / 200W |    185MiB /  8119MiB |      0%      Default |\n",
      "+-------------------------------+----------------------+----------------------+\n",
      "|   5  GeForce GTX 1080    Off  | 00000000:84:00.0 Off |                  N/A |\n",
      "|  0%   37C    P8    14W / 200W |    185MiB /  8119MiB |      0%      Default |\n",
      "+-------------------------------+----------------------+----------------------+\n",
      "|   6  GeForce GTX 1080    Off  | 00000000:87:00.0 Off |                  N/A |\n",
      "|  0%   39C    P8    14W / 200W |    185MiB /  8119MiB |      0%      Default |\n",
      "+-------------------------------+----------------------+----------------------+\n",
      "|   7  GeForce GTX 1080    Off  | 00000000:88:00.0 Off |                  N/A |\n",
      "|  0%   37C    P8    14W / 200W |    185MiB /  8119MiB |      0%      Default |\n",
      "+-------------------------------+----------------------+----------------------+\n",
      "                                                                               \n",
      "+-----------------------------------------------------------------------------+\n",
      "| Processes:                                                       GPU Memory |\n",
      "|  GPU       PID   Type   Process name                             Usage      |\n",
      "|=============================================================================|\n",
      "+-----------------------------------------------------------------------------+\n"
     ]
    }
   ],
   "source": [
    "!nvidia-smi"
   ]
  },
  {
   "cell_type": "code",
   "execution_count": 2,
   "metadata": {},
   "outputs": [],
   "source": [
    "# Necessary imports\n",
    "%load_ext autoreload\n",
    "%autoreload 2\n",
    "import os\n",
    "import sys\n",
    "import logging\n",
    "\n",
    "import numpy as np\n",
    "import tensorflow as tf\n",
    "import matplotlib\n",
    "import matplotlib.pyplot as plt\n",
    "\n",
    "sys.path.append('..')\n",
    "from seismiqb.batchflow import Dataset, Pipeline, FilesIndex\n",
    "from seismiqb.batchflow import B, V, C, L, F, D, P, R, W\n",
    "from seismiqb.batchflow.models.tf import DenseNetFC, TFModel\n",
    "from seismiqb.batchflow.models.tf.layers import conv_block\n",
    "from seismiqb import SeismicCropBatch, SeismicGeometry, SeismicCubeset, plot_loss\n",
    "from seismiqb.batchflow import FilesIndex, Batch, action, inbatch_parallel\n",
    "from seismiqb.batchflow.batch_image import transform_actions # pylint: disable=no-name-in-module,import-error\n",
    "from seismiqb.src.utils import create_mask, aggregate, make_labels_dict, _get_horizons\n",
    "\n",
    "from utils import *\n",
    "\n",
    "from glob import glob\n",
    "from tqdm import tqdm\n",
    "\n",
    "import warnings\n",
    "warnings.filterwarnings(\"ignore\")\n",
    "os.environ['TF_CPP_MIN_LOG_LEVEL'] = '3'"
   ]
  },
  {
   "cell_type": "code",
   "execution_count": 3,
   "metadata": {},
   "outputs": [
    {
     "name": "stdout",
     "output_type": "stream",
     "text": [
      "env: CUDA_VISIBLE_DEVICES=0\n"
     ]
    }
   ],
   "source": [
    "%env CUDA_VISIBLE_DEVICES=0"
   ]
  },
  {
   "cell_type": "markdown",
   "metadata": {},
   "source": [
    "## Load cube"
   ]
  },
  {
   "cell_type": "code",
   "execution_count": 4,
   "metadata": {},
   "outputs": [],
   "source": [
    "paths_cubes = ['/notebooks/SEISMIC_DATA/CUBE_3/P_cube.hdf5']\n",
    "\n",
    "dsi = FilesIndex(path=paths_cubes, no_ext=True)\n",
    "ds = SeismicCubeset(dsi)"
   ]
  },
  {
   "cell_type": "code",
   "execution_count": 5,
   "metadata": {},
   "outputs": [],
   "source": [
    "ds = ds.load()"
   ]
  },
  {
   "cell_type": "markdown",
   "metadata": {},
   "source": [
    "## Load pretrained model"
   ]
  },
  {
   "cell_type": "code",
   "execution_count": 6,
   "metadata": {},
   "outputs": [
    {
     "name": "stdout",
     "output_type": "stream",
     "text": [
      "INFO:tensorflow:Restoring parameters from ./weighted_dice_r_cube/model-2001\n"
     ]
    },
    {
     "data": {
      "text/plain": [
       "<seismiqb.batchflow.models.tf.base.TFModel at 0x7f8485b990b8>"
      ]
     },
     "execution_count": 6,
     "metadata": {},
     "output_type": "execute_result"
    }
   ],
   "source": [
    "train_pipeline = (Pipeline()\n",
    "                     .load_model('dynamic', TFModel, 'extension', path='./weighted_dice_r_cube/') << ds)\n",
    "train_pipeline.next_batch(1)\n",
    "train_pipeline.get_model_by_name('extension')"
   ]
  },
  {
   "cell_type": "code",
   "execution_count": 7,
   "metadata": {},
   "outputs": [],
   "source": [
    "p_start_points = [1709, 1253, 527]"
   ]
  },
  {
   "cell_type": "markdown",
   "metadata": {},
   "source": [
    "## Load initial label to start expansion procedure:"
   ]
  },
  {
   "cell_type": "code",
   "execution_count": 8,
   "metadata": {},
   "outputs": [
    {
     "data": {
      "text/plain": [
       "array([1160,  561,  904, 1182, 1182])"
      ]
     },
     "execution_count": 8,
     "metadata": {},
     "output_type": "execute_result"
    }
   ],
   "source": [
    "ds.labels[ds.indices[0]][(1709 + ds.geometries[ds.indices[0]].ilines_offset, ds.geometries[ds.indices[0]].xlines_offset)]"
   ]
  },
  {
   "cell_type": "code",
   "execution_count": 9,
   "metadata": {},
   "outputs": [
    {
     "name": "stdout",
     "output_type": "stream",
     "text": [
      "hey you\n"
     ]
    },
    {
     "data": {
      "image/png": "[encoded data removed]",
      "text/plain": [
       "<Figure size 432x288 with 1 Axes>"
      ]
     },
     "metadata": {
      "needs_background": "light"
     },
     "output_type": "display_data"
    },
    {
     "data": {
      "text/plain": [
       "<seismiqb.src.cubeset.SeismicCubeset at 0x7f84b864d160>"
      ]
     },
     "execution_count": 9,
     "metadata": {},
     "output_type": "execute_result"
    }
   ],
   "source": [
    "ds.subset_labels(p_start_points, crop_shape=[500, 500, 100], cube_index=0, show_prior_mask=True)"
   ]
  },
  {
   "cell_type": "code",
   "execution_count": 10,
   "metadata": {},
   "outputs": [
    {
     "data": {
      "text/plain": [
       "250000"
      ]
     },
     "execution_count": 10,
     "metadata": {},
     "output_type": "execute_result"
    }
   ],
   "source": [
    "len(ds.prior_mask[ds.indices[0]])"
   ]
  },
  {
   "cell_type": "markdown",
   "metadata": {},
   "source": [
    "### Show current labels from above:"
   ]
  },
  {
   "cell_type": "code",
   "execution_count": 11,
   "metadata": {},
   "outputs": [
    {
     "name": "stdout",
     "output_type": "stream",
     "text": [
      "len  250000\n"
     ]
    },
    {
     "data": {
      "image/png": "[encoded data removed]",
      "text/plain": [
       "<Figure size 864x504 with 1 Axes>"
      ]
     },
     "metadata": {
      "needs_background": "light"
     },
     "output_type": "display_data"
    }
   ],
   "source": [
    "img = ds.show_labels(return_image=True, src='prior_mask')"
   ]
  },
  {
   "cell_type": "code",
   "execution_count": 12,
   "metadata": {},
   "outputs": [],
   "source": [
    "from skimage.segmentation import find_boundaries"
   ]
  },
  {
   "cell_type": "markdown",
   "metadata": {},
   "source": [
    "## Find borders"
   ]
  },
  {
   "cell_type": "code",
   "execution_count": 13,
   "metadata": {},
   "outputs": [],
   "source": [
    "boundaries = find_boundaries(img).astype(np.int32)"
   ]
  },
  {
   "cell_type": "code",
   "execution_count": 14,
   "metadata": {},
   "outputs": [
    {
     "data": {
      "text/plain": [
       "array([0, 1], dtype=int32)"
      ]
     },
     "execution_count": 14,
     "metadata": {},
     "output_type": "execute_result"
    }
   ],
   "source": [
    "np.unique(boundaries)"
   ]
  },
  {
   "cell_type": "code",
   "execution_count": 15,
   "metadata": {},
   "outputs": [],
   "source": [
    "border_coords = np.where(boundaries == 1)"
   ]
  },
  {
   "cell_type": "code",
   "execution_count": 16,
   "metadata": {},
   "outputs": [
    {
     "data": {
      "text/plain": [
       "1708"
      ]
     },
     "execution_count": 16,
     "metadata": {},
     "output_type": "execute_result"
    }
   ],
   "source": [
    "np.min(border_coords[0])"
   ]
  },
  {
   "cell_type": "code",
   "execution_count": 17,
   "metadata": {},
   "outputs": [
    {
     "data": {
      "text/plain": [
       "1253"
      ]
     },
     "execution_count": 17,
     "metadata": {},
     "output_type": "execute_result"
    }
   ],
   "source": [
    "(border_coords[1][0])"
   ]
  },
  {
   "cell_type": "code",
   "execution_count": 18,
   "metadata": {},
   "outputs": [
    {
     "data": {
      "text/plain": [
       "1708"
      ]
     },
     "execution_count": 18,
     "metadata": {},
     "output_type": "execute_result"
    }
   ],
   "source": [
    "(border_coords[0][0])"
   ]
  },
  {
   "cell_type": "code",
   "execution_count": 19,
   "metadata": {},
   "outputs": [],
   "source": [
    "iline = 1710\n",
    "x_min = 1254\n",
    "x_max = 1300"
   ]
  },
  {
   "cell_type": "code",
   "execution_count": 20,
   "metadata": {},
   "outputs": [],
   "source": [
    "# def make_border_grid(ds, idx, crop_shape, labels_img, stride=10):\n",
    "#     borders_img = find_boundaries(img).astype(np.int32)\n",
    "#     cube_name = ds.indices[idx]\n",
    "#     il_len, x_len = labels_img.shape\n",
    "#     border_coords = np.where(borders_img == 1)\n",
    "#     il_min, il_max = np.min(border_coords[0]), np.max(border_coords[0])\n",
    "#     x_min, x_max = np.min(border_coords[1]), np.max(border_coords[1])\n",
    "#     il_offset = ds.geometries[ds.indices[idx]].ilines_offset\n",
    "#     xl_offset = ds.geometries[ds.indices[idx]].xlines_offset\n",
    "\n",
    "#     line_shape, height = crop_shape[1:]\n",
    "#     iline_crops = []\n",
    "\n",
    "#     # sample horizontal border points\n",
    "#     for xline in range(x_min, x_max):\n",
    "#         non_zero = np.where(borders_img[il_min:il_max, xline] == 1)[0]\n",
    "#         _lower_il, _upper_il = np.min(non_zero) + il_min, np.max(non_zero) + il_min\n",
    "#         _lower_h = ds.labels[cube_name][(_lower_il + il_offset, xline + xl_offset)] - height // 2\n",
    "#         _upper_h = ds.labels[cube_name][(_upper_il + il_offset, xline + xl_offset)] - height // 2\n",
    "\n",
    "#         _lower_il = _lower_il + stride - line_shape\n",
    "#         _upper_il = _upper_il - stride\n",
    "#         iline_crops.append([cube_name, _lower_il, xline, _lower_h])\n",
    "#         iline_crops.append([cube_name, _upper_il, xline, _upper_h])\n",
    "#     iline_crops = np.array(iline_crops, dtype=object)\n",
    "\n",
    "#     xline_crops = []\n",
    "#     # sample vertical border points\n",
    "#     for iline in range(il_min, il_max):\n",
    "#         non_zero = np.where(borders_img[iline, x_min:x_max] == 1)[0]\n",
    "#         _lower_xl, _upper_xl = np.min(non_zero) + x_min, np.max(non_zero) + x_min\n",
    "#         _lower_h = ds.labels[cube_name][(iline + il_offset, _lower_xl + xl_offset)] - height // 2\n",
    "#         _upper_h = ds.labels[cube_name][(iline + il_offset, _upper_xl + xl_offset)] - height // 2\n",
    "\n",
    "#         _lower_xl = _lower_xl + stride - line_shape\n",
    "#         _upper_xl = _upper_xl - stride\n",
    "#         xline_crops.append([cube_name, iline, _lower_xl, _lower_h])\n",
    "#         xline_crops.append([cube_name, iline, _upper_xl, _upper_h])\n",
    "#     xline_crops = np.array(xline_crops, dtype=object)\n",
    "#     return iline_crops, xline_crops"
   ]
  },
  {
   "cell_type": "markdown",
   "metadata": {},
   "source": [
    "# Create points generator crossing current border"
   ]
  },
  {
   "cell_type": "code",
   "execution_count": 21,
   "metadata": {},
   "outputs": [
    {
     "data": {
      "text/plain": [
       "<matplotlib.image.AxesImage at 0x7f83cadb1e80>"
      ]
     },
     "execution_count": 21,
     "metadata": {},
     "output_type": "execute_result"
    },
    {
     "data": {
      "image/png": "[encoded data removed]",
      "text/plain": [
       "<Figure size 432x288 with 1 Axes>"
      ]
     },
     "metadata": {
      "needs_background": "light"
     },
     "output_type": "display_data"
    }
   ],
   "source": [
    "plt.imshow(img)"
   ]
  },
  {
   "cell_type": "code",
   "execution_count": null,
   "metadata": {},
   "outputs": [],
   "source": [
    "ds = ds.make_expand_grid(ds.indices[0], crop_shape=(4, 100, 100),\n",
    "                            labels_img=img, labels_idx=1)\n",
    "\n",
    "print('Shape of ilines grid:', ds.iline_crops_info['grid_array'].shape)\n",
    "print('Shape of xlines grid:', ds.xline_crops_info['grid_array'].shape)"
   ]
  },
  {
   "cell_type": "code",
   "execution_count": 23,
   "metadata": {},
   "outputs": [
    {
     "data": {
      "text/plain": [
       "(504, 680, 114)"
      ]
     },
     "execution_count": 23,
     "metadata": {},
     "output_type": "execute_result"
    }
   ],
   "source": [
    "ds.xline_crops_info['predict_shape']"
   ]
  },
  {
   "cell_type": "code",
   "execution_count": 24,
   "metadata": {},
   "outputs": [],
   "source": [
    "axes = (1, 0, 2)"
   ]
  },
  {
   "cell_type": "code",
   "execution_count": 25,
   "metadata": {},
   "outputs": [],
   "source": [
    "model_pipeline = train_pipeline"
   ]
  },
  {
   "cell_type": "code",
   "execution_count": 26,
   "metadata": {},
   "outputs": [
    {
     "data": {
      "text/plain": [
       "(2737, 2599, 2001)"
      ]
     },
     "execution_count": 26,
     "metadata": {},
     "output_type": "execute_result"
    }
   ],
   "source": [
    "CUBE_SHAPE = (ds.geometries[ds.indices[0]].ilines_len, ds.geometries[ds.indices[0]].xlines_len, ds.geometries[ds.indices[0]].depth)\n",
    "CUBE_SHAPE"
   ]
  },
  {
   "cell_type": "code",
   "execution_count": 27,
   "metadata": {},
   "outputs": [],
   "source": [
    "def aggregate(array_crops, array_grid, crop_shape, predict_shape, order):\n",
    "    \"\"\" Jit-accelerated function to glue together crops according to grid.\n",
    "    At positions, where different crops overlap, only the maximum value is saved.\n",
    "    This function is usually called inside SeismicCropBatch's method `assemble_crops`.\n",
    "    \"\"\"\n",
    "    #pylint: disable=assignment-from-no-return\n",
    "    total = len(array_grid)\n",
    "    background = np.zeros(predict_shape)\n",
    "\n",
    "    for i in range(total):\n",
    "        print('iii', i)\n",
    "        if i > len(array_crops) - 1:\n",
    "            print('endl')\n",
    "            break\n",
    "        il, xl, h = array_grid[i, :]\n",
    "        il_end = min(background.shape[0], il+crop_shape[0])\n",
    "        xl_end = min(background.shape[1], xl+crop_shape[1])\n",
    "        h_end = min(background.shape[2], h+crop_shape[2])\n",
    "        crop = np.transpose(array_crops[i], order)\n",
    "        crop = crop[:(il_end-il), :(xl_end-xl), :(h_end-h)]\n",
    "        previous = background[il:il_end, xl:xl_end, h:h_end]\n",
    "        background[il:il_end, xl:xl_end, h:h_end] = np.maximum(crop, previous)\n",
    "    return background"
   ]
  },
  {
   "cell_type": "code",
   "execution_count": 28,
   "metadata": {},
   "outputs": [],
   "source": [
    "class TMPSeismicCropBatch(SeismicCropBatch):\n",
    "    @action\n",
    "    @inbatch_parallel(init='run_once')\n",
    "    def assemble_crops(self, src, dst, grid_info, order=None):\n",
    "        \"\"\" Glue crops together in accordance to the grid.\n",
    "\n",
    "        Notes\n",
    "        -----\n",
    "        In order to use this action you must first call `make_grid` method of SeismicCubeset.\n",
    "        Parameters\n",
    "        ----------\n",
    "        src : array-like\n",
    "            Sequence of crops.\n",
    "        dst : str\n",
    "            Component of batch to put results in.\n",
    "        grid_info : dict\n",
    "            Dictionary with information about grid. Should be created by `make_grid` method.\n",
    "        Returns\n",
    "        -------\n",
    "        SeismicCropBatch\n",
    "            Batch with assembled subcube in desired component.\n",
    "        \"\"\"\n",
    "        # Do nothing until there is a crop for every point\n",
    "#         if len(src) != len(grid_info['grid_array']):\n",
    "#             return self\n",
    "\n",
    "        order = order or (2, 0, 1)\n",
    "        # Since we know that cube is 3-d entity, we can get rid of\n",
    "        # unneccessary dimensions\n",
    "        src = np.array(src)\n",
    "        src = src if len(src.shape) == 4 else np.squeeze(src, axis=-1)\n",
    "        assembled = aggregate(src, grid_info['grid_array'], grid_info['crop_shape'],\n",
    "                              grid_info['predict_shape'], order)\n",
    "        setattr(self, dst, assembled)\n",
    "        return self"
   ]
  },
  {
   "cell_type": "code",
   "execution_count": 29,
   "metadata": {},
   "outputs": [],
   "source": [
    "ds.batch_class = TMPSeismicCropBatch"
   ]
  },
  {
   "cell_type": "code",
   "execution_count": 30,
   "metadata": {},
   "outputs": [],
   "source": [
    "crop_shape=(100, 4, 100)"
   ]
  },
  {
   "cell_type": "code",
   "execution_count": 31,
   "metadata": {},
   "outputs": [],
   "source": [
    "crop_shape=(4, 100, 100)"
   ]
  },
  {
   "cell_type": "code",
   "execution_count": 32,
   "metadata": {},
   "outputs": [
    {
     "name": "stderr",
     "output_type": "stream",
     "text": [
      "WARNING:root:`init_on_each_run` in `result_preds` is obsolete. Use `default` instead.\n"
     ]
    }
   ],
   "source": [
    "pred_pipeline = (Pipeline()\n",
    "                 .load_component(src=[D('geometries'), D('labels')],\n",
    "                                 dst=['geometries', 'labels'])\n",
    "                 .add_components('predicted_labels')\n",
    "                 .crop(points=L(D('xline_crops_gen')),\n",
    "                       shape=crop_shape, passdown='predicted_labels')\n",
    "                 .load_component(src=[D('prior_mask')], dst=['predicted_labels'])\n",
    "                 .load_cubes(dst='images')\n",
    "                 .create_masks(dst='masks', width=1, n_horizons=1, src_labels='labels')\n",
    "                 .create_masks(dst='cut_masks', width=1, n_horizons=1, src_labels='predicted_labels')\n",
    "#                  .apply_transform(np.transpose, axes=axes, src=['images', 'masks', 'cut_masks'])\n",
    "                 .rotate_axes(src=['images', 'masks', 'cut_masks'])\n",
    "                 .scale(mode='normalize', src='images')\n",
    "                 .import_model('extension', model_pipeline)\n",
    "                 .init_variable('result_preds', init_on_each_run=list())\n",
    "                 .concat_components(src=('images', 'cut_masks'), dst='model_inputs')\n",
    "                 .predict_model('extension', fetches='sigmoid',\n",
    "                                  images=B('model_inputs'),\n",
    "                                  cut_masks=B('cut_masks'),\n",
    "                                  save_to=V('result_preds', mode='e'))) << ds"
   ]
  },
  {
   "cell_type": "code",
   "execution_count": 186,
   "metadata": {},
   "outputs": [
    {
     "data": {
      "text/plain": [
       "63"
      ]
     },
     "execution_count": 186,
     "metadata": {},
     "output_type": "execute_result"
    }
   ],
   "source": [
    "ds.iline_crops_iters"
   ]
  },
  {
   "cell_type": "code",
   "execution_count": 187,
   "metadata": {},
   "outputs": [
    {
     "data": {
      "text/plain": [
       "62.625"
      ]
     },
     "execution_count": 187,
     "metadata": {},
     "output_type": "execute_result"
    }
   ],
   "source": [
    "len(ds.iline_crops_info['grid_array']) / 16"
   ]
  },
  {
   "cell_type": "code",
   "execution_count": null,
   "metadata": {},
   "outputs": [],
   "source": []
  },
  {
   "cell_type": "code",
   "execution_count": 188,
   "metadata": {},
   "outputs": [],
   "source": [
    "# %%time\n",
    "# for _ in range(ds.xline_crops_iters):\n",
    "#     pred_batch = pred_pipeline.next_batch(1, n_epochs=None)"
   ]
  },
  {
   "cell_type": "code",
   "execution_count": 189,
   "metadata": {},
   "outputs": [
    {
     "data": {
      "text/plain": [
       "63"
      ]
     },
     "execution_count": 189,
     "metadata": {},
     "output_type": "execute_result"
    }
   ],
   "source": [
    "ds.xline_crops_iters"
   ]
  },
  {
   "cell_type": "code",
   "execution_count": 190,
   "metadata": {},
   "outputs": [
    {
     "name": "stdout",
     "output_type": "stream",
     "text": [
      "CPU times: user 13.4 s, sys: 45.2 s, total: 58.5 s\n",
      "Wall time: 55.1 s\n"
     ]
    }
   ],
   "source": [
    "%%time\n",
    "for _ in range(ds.xline_crops_iters):\n",
    "    pred_batch = pred_pipeline.next_batch(1, n_epochs=None)"
   ]
  },
  {
   "cell_type": "code",
   "execution_count": 33,
   "metadata": {},
   "outputs": [
    {
     "name": "stderr",
     "output_type": "stream",
     "text": [
      "WARNING:root:`init_on_each_run` in `result_preds` is obsolete. Use `default` instead.\n"
     ]
    }
   ],
   "source": [
    "crop_shape=(100, 4, 100)\n",
    "axes = (1, 0, 2)\n",
    "\n",
    "pred_pipeline_iline = (Pipeline()\n",
    "                         .load_component(src=[D('geometries'), D('labels')],\n",
    "                                         dst=['geometries', 'labels'])\n",
    "                         .add_components('predicted_labels')\n",
    "                         .crop(points=L(D('iline_crops_gen')),\n",
    "                               shape=crop_shape, passdown='predicted_labels')\n",
    "                         .load_component(src=[D('prior_mask')], dst=['predicted_labels'])\n",
    "                         .load_cubes(dst='images')\n",
    "                         .create_masks(dst='masks', width=1, n_horizons=1, src_labels='labels')\n",
    "                         .create_masks(dst='cut_masks', width=1, n_horizons=1, src_labels='predicted_labels')\n",
    "                         .apply_transform(np.transpose, axes=axes, src=['images', 'masks', 'cut_masks'])\n",
    "                         .rotate_axes(src=['images', 'masks', 'cut_masks'])\n",
    "                         .scale(mode='normalize', src='images')\n",
    "                         .import_model('extension', model_pipeline)\n",
    "                         .init_variable('result_preds', init_on_each_run=list())\n",
    "                         .concat_components(src=('images', 'cut_masks'), dst='model_inputs')\n",
    "                         .predict_model('extension', fetches='sigmoid',\n",
    "                                          images=B('model_inputs'),\n",
    "                                          cut_masks=B('cut_masks'),\n",
    "                                          save_to=V('result_preds', mode='e'))) << ds"
   ]
  },
  {
   "cell_type": "code",
   "execution_count": 34,
   "metadata": {},
   "outputs": [
    {
     "name": "stdout",
     "output_type": "stream",
     "text": [
      "0\n",
      "1\n",
      "2\n",
      "3\n",
      "4\n",
      "5\n",
      "6\n",
      "7\n",
      "8\n",
      "9\n",
      "10\n",
      "11\n",
      "12\n",
      "13\n",
      "14\n",
      "15\n",
      "16\n",
      "17\n",
      "18\n",
      "19\n",
      "20\n",
      "21\n",
      "22\n",
      "23\n",
      "24\n",
      "25\n",
      "26\n",
      "27\n",
      "28\n",
      "29\n",
      "30\n",
      "31\n",
      "32\n",
      "33\n",
      "34\n",
      "35\n",
      "36\n",
      "37\n",
      "38\n",
      "39\n",
      "40\n",
      "41\n",
      "42\n",
      "43\n",
      "44\n",
      "45\n",
      "46\n",
      "47\n",
      "48\n",
      "49\n",
      "50\n",
      "51\n",
      "52\n",
      "53\n",
      "54\n",
      "55\n",
      "56\n",
      "57\n",
      "58\n",
      "59\n",
      "60\n",
      "61\n",
      "62\n",
      "CPU times: user 1min 36s, sys: 18min 26s, total: 20min 3s\n",
      "Wall time: 19min 49s\n"
     ]
    }
   ],
   "source": [
    "%%time\n",
    "for i in range(ds.iline_crops_iters):\n",
    "    print(i)\n",
    "    pred_batch = pred_pipeline_iline.next_batch(1, n_epochs=None)"
   ]
  },
  {
   "cell_type": "code",
   "execution_count": 262,
   "metadata": {},
   "outputs": [
    {
     "data": {
      "text/plain": [
       "6"
      ]
     },
     "execution_count": 262,
     "metadata": {},
     "output_type": "execute_result"
    }
   ],
   "source": [
    "(ds.iline_crops_iters)"
   ]
  },
  {
   "cell_type": "code",
   "execution_count": null,
   "metadata": {},
   "outputs": [],
   "source": []
  },
  {
   "cell_type": "code",
   "execution_count": 258,
   "metadata": {},
   "outputs": [
    {
     "data": {
      "text/plain": [
       "86"
      ]
     },
     "execution_count": 258,
     "metadata": {},
     "output_type": "execute_result"
    }
   ],
   "source": [
    "len(pred_pipeline_iline.v(\"result_preds\"))"
   ]
  },
  {
   "cell_type": "code",
   "execution_count": 47,
   "metadata": {},
   "outputs": [
    {
     "name": "stdout",
     "output_type": "stream",
     "text": [
      "iii 0\n",
      "iii 1\n",
      "iii 2\n",
      "iii 3\n",
      "iii 4\n",
      "iii 5\n",
      "iii 6\n",
      "iii 7\n",
      "iii 8\n",
      "iii 9\n",
      "iii 10\n",
      "iii 11\n",
      "iii 12\n",
      "iii 13\n",
      "iii 14\n",
      "iii 15\n",
      "iii 16\n",
      "iii 17\n",
      "iii 18\n",
      "iii 19\n",
      "iii 20\n",
      "iii 21\n",
      "iii 22\n",
      "iii 23\n",
      "iii 24\n",
      "iii 25\n",
      "iii 26\n",
      "iii 27\n",
      "iii 28\n",
      "iii 29\n",
      "iii 30\n",
      "iii 31\n",
      "iii 32\n",
      "iii 33\n",
      "iii 34\n",
      "iii 35\n",
      "iii 36\n",
      "iii 37\n",
      "iii 38\n",
      "iii 39\n",
      "iii 40\n",
      "iii 41\n",
      "iii 42\n",
      "iii 43\n",
      "iii 44\n",
      "iii 45\n",
      "iii 46\n",
      "iii 47\n",
      "iii 48\n",
      "iii 49\n",
      "iii 50\n",
      "iii 51\n",
      "iii 52\n",
      "iii 53\n",
      "iii 54\n",
      "iii 55\n",
      "iii 56\n",
      "iii 57\n",
      "iii 58\n",
      "iii 59\n",
      "iii 60\n",
      "iii 61\n",
      "iii 62\n",
      "iii 63\n",
      "iii 64\n",
      "iii 65\n",
      "iii 66\n",
      "iii 67\n",
      "iii 68\n",
      "iii 69\n",
      "iii 70\n",
      "iii 71\n",
      "iii 72\n",
      "iii 73\n",
      "iii 74\n",
      "iii 75\n",
      "iii 76\n",
      "iii 77\n",
      "iii 78\n",
      "iii 79\n",
      "iii 80\n",
      "iii 81\n",
      "iii 82\n",
      "iii 83\n",
      "iii 84\n",
      "iii 85\n",
      "iii 86\n",
      "iii 87\n",
      "iii 88\n",
      "iii 89\n",
      "iii 90\n",
      "iii 91\n",
      "iii 92\n",
      "iii 93\n",
      "iii 94\n",
      "iii 95\n",
      "iii 96\n",
      "iii 97\n",
      "iii 98\n",
      "iii 99\n",
      "iii 100\n",
      "iii 101\n",
      "iii 102\n",
      "iii 103\n",
      "iii 104\n",
      "iii 105\n",
      "iii 106\n",
      "iii 107\n",
      "iii 108\n",
      "iii 109\n",
      "iii 110\n",
      "iii 111\n",
      "iii 112\n",
      "iii 113\n",
      "iii 114\n",
      "iii 115\n",
      "iii 116\n",
      "iii 117\n",
      "iii 118\n",
      "iii 119\n",
      "iii 120\n",
      "iii 121\n",
      "iii 122\n",
      "iii 123\n",
      "iii 124\n",
      "iii 125\n",
      "iii 126\n",
      "iii 127\n",
      "iii 128\n",
      "iii 129\n",
      "iii 130\n",
      "iii 131\n",
      "iii 132\n",
      "iii 133\n",
      "iii 134\n",
      "iii 135\n",
      "iii 136\n",
      "iii 137\n",
      "iii 138\n",
      "iii 139\n",
      "iii 140\n",
      "iii 141\n",
      "iii 142\n",
      "iii 143\n",
      "iii 144\n",
      "iii 145\n",
      "iii 146\n",
      "iii 147\n",
      "iii 148\n",
      "iii 149\n",
      "iii 150\n",
      "iii 151\n",
      "iii 152\n",
      "iii 153\n",
      "iii 154\n",
      "iii 155\n",
      "iii 156\n",
      "iii 157\n",
      "iii 158\n",
      "iii 159\n",
      "iii 160\n",
      "iii 161\n",
      "iii 162\n",
      "iii 163\n",
      "iii 164\n",
      "iii 165\n",
      "iii 166\n",
      "iii 167\n",
      "iii 168\n",
      "iii 169\n",
      "iii 170\n",
      "iii 171\n",
      "iii 172\n",
      "iii 173\n",
      "iii 174\n",
      "iii 175\n",
      "iii 176\n",
      "iii 177\n",
      "iii 178\n",
      "iii 179\n",
      "iii 180\n",
      "iii 181\n",
      "iii 182\n",
      "iii 183\n",
      "iii 184\n",
      "iii 185\n",
      "iii 186\n",
      "iii 187\n",
      "iii 188\n",
      "iii 189\n",
      "iii 190\n",
      "iii 191\n",
      "iii 192\n",
      "iii 193\n",
      "iii 194\n",
      "iii 195\n",
      "iii 196\n",
      "iii 197\n",
      "iii 198\n",
      "iii 199\n",
      "iii 200\n",
      "iii 201\n",
      "iii 202\n",
      "iii 203\n",
      "iii 204\n",
      "iii 205\n",
      "iii 206\n",
      "iii 207\n",
      "iii 208\n",
      "iii 209\n",
      "iii 210\n",
      "iii 211\n",
      "iii 212\n",
      "iii 213\n",
      "iii 214\n",
      "iii 215\n",
      "iii 216\n",
      "iii 217\n",
      "iii 218\n",
      "iii 219\n",
      "iii 220\n",
      "iii 221\n",
      "iii 222\n",
      "iii 223\n",
      "iii 224\n",
      "iii 225\n",
      "iii 226\n",
      "iii 227\n",
      "iii 228\n",
      "iii 229\n",
      "iii 230\n",
      "iii 231\n",
      "iii 232\n",
      "iii 233\n",
      "iii 234\n",
      "iii 235\n",
      "iii 236\n",
      "iii 237\n",
      "iii 238\n",
      "iii 239\n",
      "iii 240\n",
      "iii 241\n",
      "iii 242\n",
      "iii 243\n",
      "iii 244\n",
      "iii 245\n",
      "iii 246\n",
      "iii 247\n",
      "iii 248\n",
      "iii 249\n",
      "iii 250\n",
      "iii 251\n",
      "iii 252\n",
      "iii 253\n",
      "iii 254\n",
      "iii 255\n",
      "iii 256\n",
      "iii 257\n",
      "iii 258\n",
      "iii 259\n",
      "iii 260\n",
      "iii 261\n",
      "iii 262\n",
      "iii 263\n",
      "iii 264\n",
      "iii 265\n",
      "iii 266\n",
      "iii 267\n",
      "iii 268\n",
      "iii 269\n",
      "iii 270\n",
      "iii 271\n",
      "iii 272\n",
      "iii 273\n",
      "iii 274\n",
      "iii 275\n",
      "iii 276\n",
      "iii 277\n",
      "iii 278\n",
      "iii 279\n",
      "iii 280\n",
      "iii 281\n",
      "iii 282\n",
      "iii 283\n",
      "iii 284\n",
      "iii 285\n",
      "iii 286\n",
      "iii 287\n",
      "iii 288\n",
      "iii 289\n",
      "iii 290\n",
      "iii 291\n",
      "iii 292\n",
      "iii 293\n",
      "iii 294\n",
      "iii 295\n",
      "iii 296\n",
      "iii 297\n",
      "iii 298\n",
      "iii 299\n",
      "iii 300\n",
      "iii 301\n",
      "iii 302\n",
      "iii 303\n",
      "iii 304\n",
      "iii 305\n",
      "iii 306\n",
      "iii 307\n",
      "iii 308\n",
      "iii 309\n",
      "iii 310\n",
      "iii 311\n",
      "iii 312\n",
      "iii 313\n",
      "iii 314\n",
      "iii 315\n",
      "iii 316\n",
      "iii 317\n",
      "iii 318\n",
      "iii 319\n",
      "iii 320\n",
      "iii 321\n",
      "iii 322\n",
      "iii 323\n",
      "iii 324\n",
      "iii 325\n",
      "iii 326\n",
      "iii 327\n",
      "iii 328\n",
      "iii 329\n",
      "iii 330\n",
      "iii 331\n",
      "iii 332\n",
      "iii 333\n",
      "iii 334\n",
      "iii 335\n",
      "iii 336\n",
      "iii 337\n",
      "iii 338\n",
      "iii 339\n",
      "iii 340\n",
      "iii 341\n",
      "iii 342\n",
      "iii 343\n",
      "iii 344\n",
      "iii 345\n",
      "iii 346\n",
      "iii 347\n",
      "iii 348\n",
      "iii 349\n",
      "iii 350\n",
      "iii 351\n",
      "iii 352\n",
      "iii 353\n",
      "iii 354\n",
      "iii 355\n",
      "iii 356\n",
      "iii 357\n",
      "iii 358\n",
      "iii 359\n",
      "iii 360\n",
      "iii 361\n",
      "iii 362\n",
      "iii 363\n",
      "iii 364\n",
      "iii 365\n",
      "iii 366\n",
      "iii 367\n",
      "iii 368\n",
      "iii 369\n",
      "iii 370\n",
      "iii 371\n",
      "iii 372\n",
      "iii 373\n",
      "iii 374\n",
      "iii 375\n",
      "iii 376\n",
      "iii 377\n",
      "iii 378\n",
      "iii 379\n",
      "iii 380\n",
      "iii 381\n",
      "iii 382\n",
      "iii 383\n",
      "iii 384\n",
      "iii 385\n",
      "iii 386\n",
      "iii 387\n",
      "iii 388\n",
      "iii 389\n",
      "iii 390\n",
      "iii 391\n",
      "iii 392\n",
      "iii 393\n",
      "iii 394\n",
      "iii 395\n",
      "iii 396\n",
      "iii 397\n",
      "iii 398\n",
      "iii 399\n",
      "iii 400\n",
      "iii 401\n",
      "iii 402\n",
      "iii 403\n",
      "iii 404\n",
      "iii 405\n",
      "iii 406\n",
      "iii 407\n",
      "iii 408\n",
      "iii 409\n",
      "iii 410\n",
      "iii 411\n",
      "iii 412\n",
      "iii 413\n",
      "iii 414\n",
      "iii 415\n",
      "iii 416\n",
      "iii 417\n",
      "iii 418\n",
      "iii 419\n",
      "iii 420\n",
      "iii 421\n",
      "iii 422\n",
      "iii 423\n",
      "iii 424\n",
      "iii 425\n",
      "iii 426\n",
      "iii 427\n",
      "iii 428\n",
      "iii 429\n",
      "iii 430\n",
      "iii 431\n",
      "iii 432\n",
      "iii 433\n",
      "iii 434\n",
      "iii 435\n",
      "iii 436\n",
      "iii 437\n",
      "iii 438\n",
      "iii 439\n",
      "iii 440\n",
      "iii 441\n",
      "iii 442\n",
      "iii 443\n",
      "iii 444\n",
      "iii 445\n",
      "iii 446\n",
      "iii 447\n",
      "iii 448\n",
      "iii 449\n",
      "iii 450\n",
      "iii 451\n",
      "iii 452\n",
      "iii 453\n",
      "iii 454\n",
      "iii 455\n",
      "iii 456\n",
      "iii 457\n",
      "iii 458\n",
      "iii 459\n",
      "iii 460\n",
      "iii 461\n",
      "iii 462\n",
      "iii 463\n",
      "iii 464\n",
      "iii 465\n",
      "iii 466\n",
      "iii 467\n",
      "iii 468\n",
      "iii 469\n",
      "iii 470\n",
      "iii 471\n",
      "iii 472\n",
      "iii 473\n",
      "iii 474\n",
      "iii 475\n",
      "iii 476\n",
      "iii 477\n",
      "iii 478\n",
      "iii 479\n",
      "iii 480\n",
      "iii 481\n",
      "iii 482\n",
      "iii 483\n",
      "iii 484\n",
      "iii 485\n",
      "iii 486\n",
      "iii 487\n",
      "iii 488\n",
      "iii 489\n",
      "iii 490\n",
      "iii 491\n",
      "iii 492\n",
      "iii 493\n",
      "iii 494\n",
      "iii 495\n",
      "iii 496\n",
      "iii 497\n",
      "iii 498\n",
      "iii 499\n",
      "iii 500\n",
      "iii 501\n",
      "iii 502\n",
      "iii 503\n",
      "iii 504\n",
      "iii 505\n",
      "iii 506\n",
      "iii 507\n",
      "iii 508\n",
      "iii 509\n",
      "iii 510\n",
      "iii 511\n",
      "iii 512\n",
      "iii 513\n",
      "iii 514\n",
      "iii 515\n",
      "iii 516\n",
      "iii 517\n",
      "iii 518\n",
      "iii 519\n",
      "iii 520\n",
      "iii 521\n",
      "iii 522\n",
      "iii 523\n",
      "iii 524\n",
      "iii 525\n",
      "iii 526\n",
      "iii 527\n",
      "iii 528\n",
      "iii 529\n",
      "iii 530\n",
      "iii 531\n",
      "iii 532\n",
      "iii 533\n",
      "iii 534\n",
      "iii 535\n",
      "iii 536\n",
      "iii 537\n",
      "iii 538\n",
      "iii 539\n",
      "iii 540\n",
      "iii 541\n",
      "iii 542\n",
      "iii 543\n",
      "iii 544\n",
      "iii 545\n",
      "iii 546\n",
      "iii 547\n",
      "iii 548\n",
      "iii 549\n",
      "iii 550\n",
      "iii 551\n",
      "iii 552\n",
      "iii 553\n",
      "iii 554\n",
      "iii 555\n",
      "iii 556\n",
      "iii 557\n",
      "iii 558\n",
      "iii 559\n",
      "iii 560\n",
      "iii 561\n",
      "iii 562\n",
      "iii 563\n",
      "iii 564\n",
      "iii 565\n",
      "iii 566\n",
      "iii 567\n",
      "iii 568\n",
      "iii 569\n",
      "iii 570\n",
      "iii 571\n",
      "iii 572\n",
      "iii 573\n",
      "iii 574\n",
      "iii 575\n",
      "iii 576\n",
      "iii 577\n",
      "iii 578\n",
      "iii 579\n",
      "iii 580\n",
      "iii 581\n",
      "iii 582\n",
      "iii 583\n",
      "iii 584\n",
      "iii 585\n",
      "iii 586\n",
      "iii 587\n",
      "iii 588\n",
      "iii 589\n",
      "iii 590\n",
      "iii 591\n",
      "iii 592\n",
      "iii 593\n",
      "iii 594\n",
      "iii 595\n",
      "iii 596\n",
      "iii 597\n",
      "iii 598\n",
      "iii 599\n",
      "iii 600\n",
      "iii 601\n",
      "iii 602\n",
      "iii 603\n",
      "iii 604\n",
      "iii 605\n",
      "iii 606\n",
      "iii 607\n",
      "iii 608\n",
      "iii 609\n",
      "iii 610\n",
      "iii 611\n",
      "iii 612\n",
      "iii 613\n",
      "iii 614\n",
      "iii 615\n",
      "iii 616\n",
      "iii 617\n",
      "iii 618\n",
      "iii 619\n",
      "iii 620\n",
      "iii 621\n",
      "iii 622\n",
      "iii 623\n",
      "iii 624\n",
      "iii 625\n",
      "iii 626\n",
      "iii 627\n",
      "iii 628\n",
      "iii 629\n",
      "iii 630\n",
      "iii 631\n",
      "iii 632\n",
      "iii 633\n",
      "iii 634\n",
      "iii 635\n",
      "iii 636\n",
      "iii 637\n",
      "iii 638\n",
      "iii 639\n",
      "iii 640\n",
      "iii 641\n",
      "iii 642\n",
      "iii 643\n",
      "iii 644\n",
      "iii 645\n",
      "iii 646\n",
      "iii 647\n",
      "iii 648\n",
      "iii 649\n",
      "iii 650\n",
      "iii 651\n",
      "iii 652\n",
      "iii 653\n",
      "iii 654\n",
      "iii 655\n",
      "iii 656\n",
      "iii 657\n",
      "iii 658\n",
      "iii 659\n",
      "iii 660\n",
      "iii 661\n",
      "iii 662\n",
      "iii 663\n",
      "iii 664\n",
      "iii 665\n",
      "iii 666\n",
      "iii 667\n",
      "iii 668\n",
      "iii 669\n",
      "iii 670\n",
      "iii 671\n",
      "iii 672\n",
      "iii 673\n",
      "iii 674\n",
      "iii 675\n",
      "iii 676\n",
      "iii 677\n",
      "iii 678\n",
      "iii 679\n",
      "iii 680\n",
      "iii 681\n",
      "iii 682\n",
      "iii 683\n",
      "iii 684\n",
      "iii 685\n",
      "iii 686\n",
      "iii 687\n",
      "iii 688\n",
      "iii 689\n",
      "iii 690\n",
      "iii 691\n",
      "iii 692\n",
      "iii 693\n",
      "iii 694\n",
      "iii 695\n",
      "iii 696\n",
      "iii 697\n",
      "iii 698\n",
      "iii 699\n",
      "iii 700\n",
      "iii 701\n",
      "iii 702\n",
      "iii 703\n",
      "iii 704\n",
      "iii 705\n",
      "iii 706\n",
      "iii 707\n",
      "iii 708\n",
      "iii 709\n",
      "iii 710\n",
      "iii 711\n",
      "iii 712\n",
      "iii 713\n",
      "iii 714\n",
      "iii 715\n",
      "iii 716\n",
      "iii 717\n",
      "iii 718\n",
      "iii 719\n",
      "iii 720\n",
      "iii 721\n",
      "iii 722\n",
      "iii 723\n",
      "iii 724\n",
      "iii 725\n",
      "iii 726\n",
      "iii 727\n",
      "iii 728\n",
      "iii 729\n",
      "iii 730\n",
      "iii 731\n",
      "iii 732\n",
      "iii 733\n",
      "iii 734\n",
      "iii 735\n",
      "iii 736\n",
      "iii 737\n",
      "iii 738\n",
      "iii 739\n",
      "iii 740\n",
      "iii 741\n",
      "iii 742\n",
      "iii 743\n",
      "iii 744\n",
      "iii 745\n",
      "iii 746\n",
      "iii 747\n",
      "iii 748\n",
      "iii 749\n",
      "iii 750\n",
      "iii 751\n",
      "iii 752\n",
      "iii 753\n",
      "iii 754\n",
      "iii 755\n",
      "iii 756\n",
      "iii 757\n",
      "iii 758\n",
      "iii 759\n",
      "iii 760\n",
      "iii 761\n",
      "iii 762\n",
      "iii 763\n",
      "iii 764\n",
      "iii 765\n",
      "iii 766\n",
      "iii 767\n",
      "iii 768\n",
      "iii 769\n",
      "iii 770\n",
      "iii 771\n",
      "iii 772\n",
      "iii 773\n",
      "iii 774\n",
      "iii 775\n",
      "iii 776\n",
      "iii 777\n",
      "iii 778\n",
      "iii 779\n",
      "iii 780\n",
      "iii 781\n",
      "iii 782\n",
      "iii 783\n",
      "iii 784\n",
      "iii 785\n",
      "iii 786\n",
      "iii 787\n",
      "iii 788\n",
      "iii 789\n",
      "iii 790\n",
      "iii 791\n",
      "iii 792\n",
      "iii 793\n",
      "iii 794\n",
      "iii 795\n",
      "iii 796\n",
      "iii 797\n",
      "iii 798\n",
      "iii 799\n",
      "iii 800\n",
      "iii 801\n",
      "iii 802\n",
      "iii 803\n",
      "iii 804\n",
      "iii 805\n",
      "iii 806\n",
      "iii 807\n",
      "iii 808\n",
      "iii 809\n",
      "iii 810\n",
      "iii 811\n",
      "iii 812\n",
      "iii 813\n",
      "iii 814\n",
      "iii 815\n",
      "iii 816\n",
      "iii 817\n",
      "iii 818\n",
      "iii 819\n",
      "iii 820\n",
      "iii 821\n",
      "iii 822\n",
      "iii 823\n",
      "iii 824\n",
      "iii 825\n",
      "iii 826\n",
      "iii 827\n",
      "iii 828\n",
      "iii 829\n",
      "iii 830\n",
      "iii 831\n",
      "iii 832\n",
      "iii 833\n",
      "iii 834\n",
      "iii 835\n",
      "iii 836\n",
      "iii 837\n",
      "iii 838\n",
      "iii 839\n",
      "iii 840\n",
      "iii 841\n",
      "iii 842\n",
      "iii 843\n",
      "iii 844\n",
      "iii 845\n",
      "iii 846\n",
      "iii 847\n",
      "iii 848\n",
      "iii 849\n",
      "iii 850\n",
      "iii 851\n",
      "iii 852\n",
      "iii 853\n",
      "iii 854\n",
      "iii 855\n",
      "iii 856\n",
      "iii 857\n",
      "iii 858\n",
      "iii 859\n",
      "iii 860\n",
      "iii 861\n",
      "iii 862\n",
      "iii 863\n",
      "iii 864\n",
      "iii 865\n",
      "iii 866\n",
      "iii 867\n",
      "iii 868\n",
      "iii 869\n",
      "iii 870\n",
      "iii 871\n",
      "iii 872\n",
      "iii 873\n",
      "iii 874\n",
      "iii 875\n",
      "iii 876\n",
      "iii 877\n",
      "iii 878\n",
      "iii 879\n",
      "iii 880\n",
      "iii 881\n",
      "iii 882\n",
      "iii 883\n",
      "iii 884\n",
      "iii 885\n",
      "iii 886\n",
      "iii 887\n",
      "iii 888\n",
      "iii 889\n",
      "iii 890\n",
      "iii 891\n",
      "iii 892\n",
      "iii 893\n",
      "iii 894\n",
      "iii 895\n",
      "iii 896\n",
      "iii 897\n",
      "iii 898\n",
      "iii 899\n",
      "iii 900\n",
      "iii 901\n",
      "iii 902\n",
      "iii 903\n",
      "iii 904\n",
      "iii 905\n",
      "iii 906\n",
      "iii 907\n",
      "iii 908\n",
      "iii 909\n",
      "iii 910\n",
      "iii 911\n",
      "iii 912\n",
      "iii 913\n",
      "iii 914\n",
      "iii 915\n",
      "iii 916\n",
      "iii 917\n",
      "iii 918\n",
      "iii 919\n",
      "iii 920\n",
      "iii 921\n",
      "iii 922\n",
      "iii 923\n",
      "iii 924\n",
      "iii 925\n",
      "iii 926\n",
      "iii 927\n",
      "iii 928\n",
      "iii 929\n",
      "iii 930\n",
      "iii 931\n",
      "iii 932\n",
      "iii 933\n",
      "iii 934\n",
      "iii 935\n",
      "iii 936\n",
      "iii 937\n",
      "iii 938\n",
      "iii 939\n",
      "iii 940\n",
      "iii 941\n",
      "iii 942\n",
      "iii 943\n",
      "iii 944\n",
      "iii 945\n",
      "iii 946\n",
      "iii 947\n",
      "iii 948\n",
      "iii 949\n",
      "iii 950\n",
      "iii 951\n",
      "iii 952\n",
      "iii 953\n",
      "iii 954\n",
      "iii 955\n",
      "iii 956\n",
      "iii 957\n",
      "iii 958\n",
      "iii 959\n",
      "iii 960\n",
      "iii 961\n",
      "iii 962\n",
      "iii 963\n",
      "iii 964\n",
      "iii 965\n",
      "iii 966\n",
      "iii 967\n",
      "iii 968\n",
      "iii 969\n",
      "iii 970\n",
      "iii 971\n",
      "iii 972\n",
      "iii 973\n",
      "iii 974\n",
      "iii 975\n",
      "iii 976\n",
      "iii 977\n",
      "iii 978\n",
      "iii 979\n",
      "iii 980\n",
      "iii 981\n",
      "iii 982\n",
      "iii 983\n",
      "iii 984\n",
      "iii 985\n",
      "iii 986\n",
      "iii 987\n",
      "iii 988\n",
      "iii 989\n",
      "iii 990\n",
      "iii 991\n",
      "iii 992\n",
      "iii 993\n",
      "iii 994\n",
      "iii 995\n",
      "iii 996\n",
      "iii 997\n",
      "iii 998\n",
      "iii 999\n",
      "iii 1000\n",
      "iii 1001\n"
     ]
    }
   ],
   "source": [
    "assemble_ppl = Pipeline().assemble_crops(src=pred_pipeline_iline.v(\"result_preds\"), dst='assembled_pred_iline', grid_info=ds.iline_crops_info, order=(0, 2, 1)) << ds\n",
    "btch = assemble_ppl.next_batch(1)"
   ]
  },
  {
   "cell_type": "code",
   "execution_count": 191,
   "metadata": {},
   "outputs": [
    {
     "data": {
      "text/plain": [
       "dict_keys(['cube_name', 'range', 'predict_shape', 'crop_shape', 'grid_array'])"
      ]
     },
     "execution_count": 191,
     "metadata": {},
     "output_type": "execute_result"
    }
   ],
   "source": [
    "ds.iline_crops_info.keys()"
   ]
  },
  {
   "cell_type": "code",
   "execution_count": 36,
   "metadata": {},
   "outputs": [
    {
     "data": {
      "text/plain": [
       "(680, 504, 111)"
      ]
     },
     "execution_count": 36,
     "metadata": {},
     "output_type": "execute_result"
    }
   ],
   "source": [
    "ds.iline_crops_info['predict_shape']"
   ]
  },
  {
   "cell_type": "code",
   "execution_count": 51,
   "metadata": {},
   "outputs": [
    {
     "data": {
      "text/plain": [
       "(680, 504, 111)"
      ]
     },
     "execution_count": 51,
     "metadata": {},
     "output_type": "execute_result"
    }
   ],
   "source": [
    "(btch.assembled_pred_iline.shape)"
   ]
  },
  {
   "cell_type": "code",
   "execution_count": 41,
   "metadata": {},
   "outputs": [
    {
     "data": {
      "text/plain": [
       "(100, 4, 100)"
      ]
     },
     "execution_count": 41,
     "metadata": {},
     "output_type": "execute_result"
    }
   ],
   "source": [
    "np.transpose(pred_pipeline_iline.v(\"result_preds\")[0][..., 0], axes=(0, 2, 1)).shape"
   ]
  },
  {
   "cell_type": "code",
   "execution_count": 194,
   "metadata": {},
   "outputs": [
    {
     "data": {
      "text/plain": [
       "(1002, 3)"
      ]
     },
     "execution_count": 194,
     "metadata": {},
     "output_type": "execute_result"
    }
   ],
   "source": [
    "ds.iline_crops_info['grid_array'].shape"
   ]
  },
  {
   "cell_type": "code",
   "execution_count": null,
   "metadata": {},
   "outputs": [],
   "source": []
  },
  {
   "cell_type": "code",
   "execution_count": 195,
   "metadata": {},
   "outputs": [
    {
     "data": {
      "text/plain": [
       "[(1617, 2298), (1252, 1756), (510, 621)]"
      ]
     },
     "execution_count": 195,
     "metadata": {},
     "output_type": "execute_result"
    }
   ],
   "source": [
    "ds.iline_crops_info['range']"
   ]
  },
  {
   "cell_type": "code",
   "execution_count": 196,
   "metadata": {},
   "outputs": [
    {
     "data": {
      "text/plain": [
       "(100, 100, 4, 1)"
      ]
     },
     "execution_count": 196,
     "metadata": {},
     "output_type": "execute_result"
    }
   ],
   "source": [
    "pred_pipeline.v(\"result_preds\")[0].shape"
   ]
  },
  {
   "cell_type": "code",
   "execution_count": 197,
   "metadata": {},
   "outputs": [
    {
     "data": {
      "text/plain": [
       "1004"
      ]
     },
     "execution_count": 197,
     "metadata": {},
     "output_type": "execute_result"
    }
   ],
   "source": [
    "len(pred_pipeline.v(\"result_preds\"))"
   ]
  },
  {
   "cell_type": "code",
   "execution_count": 198,
   "metadata": {},
   "outputs": [
    {
     "data": {
      "text/plain": [
       "1002"
      ]
     },
     "execution_count": 198,
     "metadata": {},
     "output_type": "execute_result"
    }
   ],
   "source": [
    "len(ds.iline_crops_info['grid_array'])"
   ]
  },
  {
   "cell_type": "code",
   "execution_count": 199,
   "metadata": {},
   "outputs": [],
   "source": [
    "# assemble_ppl = Pipeline().assemble_crops(src=pred_pipeline.v(\"result_preds\"), dst='assembled_pred_new', grid_info=ds.iline_crops_info, order=(0, 2, 1)) << ds"
   ]
  },
  {
   "cell_type": "code",
   "execution_count": 202,
   "metadata": {},
   "outputs": [],
   "source": [
    "assemble_ppl = Pipeline().assemble_crops(src=pred_pipeline.v(\"result_preds\"), dst='assembled_pred_x', grid_info=ds.xline_crops_info, order=(2, 0, 1)) << ds"
   ]
  },
  {
   "cell_type": "code",
   "execution_count": 203,
   "metadata": {},
   "outputs": [
    {
     "name": "stdout",
     "output_type": "stream",
     "text": [
      "iii 0\n",
      "iii 1\n",
      "iii 2\n",
      "iii 3\n",
      "iii 4\n",
      "iii 5\n",
      "iii 6\n",
      "iii 7\n",
      "iii 8\n",
      "iii 9\n",
      "iii 10\n",
      "iii 11\n",
      "iii 12\n",
      "iii 13\n",
      "iii 14\n",
      "iii 15\n",
      "iii 16\n",
      "iii 17\n",
      "iii 18\n",
      "iii 19\n",
      "iii 20\n",
      "iii 21\n",
      "iii 22\n",
      "iii 23\n",
      "iii 24\n",
      "iii 25\n",
      "iii 26\n",
      "iii 27\n",
      "iii 28\n",
      "iii 29\n",
      "iii 30\n",
      "iii 31\n",
      "iii 32\n",
      "iii 33\n",
      "iii 34\n",
      "iii 35\n",
      "iii 36\n",
      "iii 37\n",
      "iii 38\n",
      "iii 39\n",
      "iii 40\n",
      "iii 41\n",
      "iii 42\n",
      "iii 43\n",
      "iii 44\n",
      "iii 45\n",
      "iii 46\n",
      "iii 47\n",
      "iii 48\n",
      "iii 49\n",
      "iii 50\n",
      "iii 51\n",
      "iii 52\n",
      "iii 53\n",
      "iii 54\n",
      "iii 55\n",
      "iii 56\n",
      "iii 57\n",
      "iii 58\n",
      "iii 59\n",
      "iii 60\n",
      "iii 61\n",
      "iii 62\n",
      "iii 63\n",
      "iii 64\n",
      "iii 65\n",
      "iii 66\n",
      "iii 67\n",
      "iii 68\n",
      "iii 69\n",
      "iii 70\n",
      "iii 71\n",
      "iii 72\n",
      "iii 73\n",
      "iii 74\n",
      "iii 75\n",
      "iii 76\n",
      "iii 77\n",
      "iii 78\n",
      "iii 79\n",
      "iii 80\n",
      "iii 81\n",
      "iii 82\n",
      "iii 83\n",
      "iii 84\n",
      "iii 85\n",
      "iii 86\n",
      "iii 87\n",
      "iii 88\n",
      "iii 89\n",
      "iii 90\n",
      "iii 91\n",
      "iii 92\n",
      "iii 93\n",
      "iii 94\n",
      "iii 95\n",
      "iii 96\n",
      "iii 97\n",
      "iii 98\n",
      "iii 99\n",
      "iii 100\n",
      "iii 101\n",
      "iii 102\n",
      "iii 103\n",
      "iii 104\n",
      "iii 105\n",
      "iii 106\n",
      "iii 107\n",
      "iii 108\n",
      "iii 109\n",
      "iii 110\n",
      "iii 111\n",
      "iii 112\n",
      "iii 113\n",
      "iii 114\n",
      "iii 115\n",
      "iii 116\n",
      "iii 117\n",
      "iii 118\n",
      "iii 119\n",
      "iii 120\n",
      "iii 121\n",
      "iii 122\n",
      "iii 123\n",
      "iii 124\n",
      "iii 125\n",
      "iii 126\n",
      "iii 127\n",
      "iii 128\n",
      "iii 129\n",
      "iii 130\n",
      "iii 131\n",
      "iii 132\n",
      "iii 133\n",
      "iii 134\n",
      "iii 135\n",
      "iii 136\n",
      "iii 137\n",
      "iii 138\n",
      "iii 139\n",
      "iii 140\n",
      "iii 141\n",
      "iii 142\n",
      "iii 143\n",
      "iii 144\n",
      "iii 145\n",
      "iii 146\n",
      "iii 147\n",
      "iii 148\n",
      "iii 149\n",
      "iii 150\n",
      "iii 151\n",
      "iii 152\n",
      "iii 153\n",
      "iii 154\n",
      "iii 155\n",
      "iii 156\n",
      "iii 157\n",
      "iii 158\n",
      "iii 159\n",
      "iii 160\n",
      "iii 161\n",
      "iii 162\n",
      "iii 163\n",
      "iii 164\n",
      "iii 165\n",
      "iii 166\n",
      "iii 167\n",
      "iii 168\n",
      "iii 169\n",
      "iii 170\n",
      "iii 171\n",
      "iii 172\n",
      "iii 173\n",
      "iii 174\n",
      "iii 175\n",
      "iii 176\n",
      "iii 177\n",
      "iii 178\n",
      "iii 179\n",
      "iii 180\n",
      "iii 181\n",
      "iii 182\n",
      "iii 183\n",
      "iii 184\n",
      "iii 185\n",
      "iii 186\n",
      "iii 187\n",
      "iii 188\n",
      "iii 189\n",
      "iii 190\n",
      "iii 191\n",
      "iii 192\n",
      "iii 193\n",
      "iii 194\n",
      "iii 195\n",
      "iii 196\n",
      "iii 197\n",
      "iii 198\n",
      "iii 199\n",
      "iii 200\n",
      "iii 201\n",
      "iii 202\n",
      "iii 203\n",
      "iii 204\n",
      "iii 205\n",
      "iii 206\n",
      "iii 207\n",
      "iii 208\n",
      "iii 209\n",
      "iii 210\n",
      "iii 211\n",
      "iii 212\n",
      "iii 213\n",
      "iii 214\n",
      "iii 215\n",
      "iii 216\n",
      "iii 217\n",
      "iii 218\n",
      "iii 219\n",
      "iii 220\n",
      "iii 221\n",
      "iii 222\n",
      "iii 223\n",
      "iii 224\n",
      "iii 225\n",
      "iii 226\n",
      "iii 227\n",
      "iii 228\n",
      "iii 229\n",
      "iii 230\n",
      "iii 231\n",
      "iii 232\n",
      "iii 233\n",
      "iii 234\n",
      "iii 235\n",
      "iii 236\n",
      "iii 237\n",
      "iii 238\n",
      "iii 239\n",
      "iii 240\n",
      "iii 241\n",
      "iii 242\n",
      "iii 243\n",
      "iii 244\n",
      "iii 245\n",
      "iii 246\n",
      "iii 247\n",
      "iii 248\n",
      "iii 249\n",
      "iii 250\n",
      "iii 251\n",
      "iii 252\n",
      "iii 253\n",
      "iii 254\n",
      "iii 255\n",
      "iii 256\n",
      "iii 257\n",
      "iii 258\n",
      "iii 259\n",
      "iii 260\n",
      "iii 261\n",
      "iii 262\n",
      "iii 263\n",
      "iii 264\n",
      "iii 265\n",
      "iii 266\n",
      "iii 267\n",
      "iii 268\n",
      "iii 269\n",
      "iii 270\n",
      "iii 271\n",
      "iii 272\n",
      "iii 273\n",
      "iii 274\n",
      "iii 275\n",
      "iii 276\n",
      "iii 277\n",
      "iii 278\n",
      "iii 279\n",
      "iii 280\n",
      "iii 281\n",
      "iii 282\n",
      "iii 283\n",
      "iii 284\n",
      "iii 285\n",
      "iii 286\n",
      "iii 287\n",
      "iii 288\n",
      "iii 289\n",
      "iii 290\n",
      "iii 291\n",
      "iii 292\n",
      "iii 293\n",
      "iii 294\n",
      "iii 295\n",
      "iii 296\n",
      "iii 297\n",
      "iii 298\n",
      "iii 299\n",
      "iii 300\n",
      "iii 301\n",
      "iii 302\n",
      "iii 303\n",
      "iii 304\n",
      "iii 305\n",
      "iii 306\n",
      "iii 307\n",
      "iii 308\n",
      "iii 309\n",
      "iii 310\n",
      "iii 311\n",
      "iii 312\n",
      "iii 313\n",
      "iii 314\n",
      "iii 315\n",
      "iii 316\n",
      "iii 317\n",
      "iii 318\n",
      "iii 319\n",
      "iii 320\n",
      "iii 321\n",
      "iii 322\n",
      "iii 323\n",
      "iii 324\n",
      "iii 325\n",
      "iii 326\n",
      "iii 327\n",
      "iii 328\n",
      "iii 329\n",
      "iii 330\n",
      "iii 331\n",
      "iii 332\n",
      "iii 333\n",
      "iii 334\n",
      "iii 335\n",
      "iii 336\n",
      "iii 337\n",
      "iii 338\n",
      "iii 339\n",
      "iii 340\n",
      "iii 341\n",
      "iii 342\n",
      "iii 343\n",
      "iii 344\n",
      "iii 345\n",
      "iii 346\n",
      "iii 347\n",
      "iii 348\n",
      "iii 349\n",
      "iii 350\n",
      "iii 351\n",
      "iii 352\n",
      "iii 353\n",
      "iii 354\n",
      "iii 355\n",
      "iii 356\n",
      "iii 357\n",
      "iii 358\n",
      "iii 359\n",
      "iii 360\n",
      "iii 361\n",
      "iii 362\n",
      "iii 363\n",
      "iii 364\n",
      "iii 365\n",
      "iii 366\n",
      "iii 367\n",
      "iii 368\n",
      "iii 369\n",
      "iii 370\n",
      "iii 371\n",
      "iii 372\n",
      "iii 373\n",
      "iii 374\n",
      "iii 375\n",
      "iii 376\n",
      "iii 377\n",
      "iii 378\n",
      "iii 379\n",
      "iii 380\n",
      "iii 381\n",
      "iii 382\n",
      "iii 383\n",
      "iii 384\n",
      "iii 385\n",
      "iii 386\n",
      "iii 387\n",
      "iii 388\n",
      "iii 389\n",
      "iii 390\n",
      "iii 391\n",
      "iii 392\n",
      "iii 393\n",
      "iii 394\n",
      "iii 395\n",
      "iii 396\n",
      "iii 397\n",
      "iii 398\n",
      "iii 399\n",
      "iii 400\n",
      "iii 401\n",
      "iii 402\n",
      "iii 403\n",
      "iii 404\n",
      "iii 405\n",
      "iii 406\n",
      "iii 407\n",
      "iii 408\n",
      "iii 409\n",
      "iii 410\n",
      "iii 411\n",
      "iii 412\n",
      "iii 413\n",
      "iii 414\n",
      "iii 415\n",
      "iii 416\n",
      "iii 417\n",
      "iii 418\n",
      "iii 419\n",
      "iii 420\n",
      "iii 421\n",
      "iii 422\n",
      "iii 423\n",
      "iii 424\n",
      "iii 425\n",
      "iii 426\n",
      "iii 427\n",
      "iii 428\n",
      "iii 429\n",
      "iii 430\n",
      "iii 431\n",
      "iii 432\n",
      "iii 433\n",
      "iii 434\n",
      "iii 435\n",
      "iii 436\n",
      "iii 437\n",
      "iii 438\n",
      "iii 439\n",
      "iii 440\n",
      "iii 441\n",
      "iii 442\n",
      "iii 443\n",
      "iii 444\n",
      "iii 445\n",
      "iii 446\n",
      "iii 447\n",
      "iii 448\n",
      "iii 449\n",
      "iii 450\n",
      "iii 451\n",
      "iii 452\n",
      "iii 453\n",
      "iii 454\n",
      "iii 455\n",
      "iii 456\n",
      "iii 457\n",
      "iii 458\n",
      "iii 459\n",
      "iii 460\n",
      "iii 461\n",
      "iii 462\n",
      "iii 463\n",
      "iii 464\n",
      "iii 465\n",
      "iii 466\n",
      "iii 467\n",
      "iii 468\n",
      "iii 469\n",
      "iii 470\n",
      "iii 471\n",
      "iii 472\n",
      "iii 473\n",
      "iii 474\n",
      "iii 475\n",
      "iii 476\n",
      "iii 477\n",
      "iii 478\n",
      "iii 479\n",
      "iii 480\n",
      "iii 481\n",
      "iii 482\n",
      "iii 483\n",
      "iii 484\n",
      "iii 485\n",
      "iii 486\n",
      "iii 487\n",
      "iii 488\n",
      "iii 489\n",
      "iii 490\n",
      "iii 491\n",
      "iii 492\n",
      "iii 493\n",
      "iii 494\n",
      "iii 495\n",
      "iii 496\n",
      "iii 497\n",
      "iii 498\n",
      "iii 499\n",
      "iii 500\n",
      "iii 501\n",
      "iii 502\n",
      "iii 503\n",
      "iii 504\n",
      "iii 505\n",
      "iii 506\n",
      "iii 507\n",
      "iii 508\n",
      "iii 509\n",
      "iii 510\n",
      "iii 511\n",
      "iii 512\n",
      "iii 513\n",
      "iii 514\n",
      "iii 515\n",
      "iii 516\n",
      "iii 517\n",
      "iii 518\n",
      "iii 519\n",
      "iii 520\n",
      "iii 521\n",
      "iii 522\n",
      "iii 523\n",
      "iii 524\n",
      "iii 525\n",
      "iii 526\n",
      "iii 527\n",
      "iii 528\n",
      "iii 529\n",
      "iii 530\n",
      "iii 531\n",
      "iii 532\n",
      "iii 533\n",
      "iii 534\n",
      "iii 535\n",
      "iii 536\n",
      "iii 537\n",
      "iii 538\n",
      "iii 539\n",
      "iii 540\n",
      "iii 541\n",
      "iii 542\n",
      "iii 543\n",
      "iii 544\n",
      "iii 545\n",
      "iii 546\n",
      "iii 547\n",
      "iii 548\n",
      "iii 549\n",
      "iii 550\n",
      "iii 551\n",
      "iii 552\n",
      "iii 553\n",
      "iii 554\n",
      "iii 555\n",
      "iii 556\n",
      "iii 557\n",
      "iii 558\n",
      "iii 559\n",
      "iii 560\n",
      "iii 561\n",
      "iii 562\n",
      "iii 563\n",
      "iii 564\n",
      "iii 565\n",
      "iii 566\n",
      "iii 567\n",
      "iii 568\n",
      "iii 569\n",
      "iii 570\n",
      "iii 571\n",
      "iii 572\n",
      "iii 573\n",
      "iii 574\n",
      "iii 575\n",
      "iii 576\n",
      "iii 577\n",
      "iii 578\n",
      "iii 579\n",
      "iii 580\n",
      "iii 581\n",
      "iii 582\n",
      "iii 583\n",
      "iii 584\n",
      "iii 585\n",
      "iii 586\n",
      "iii 587\n",
      "iii 588\n",
      "iii 589\n",
      "iii 590\n",
      "iii 591\n",
      "iii 592\n",
      "iii 593\n",
      "iii 594\n",
      "iii 595\n",
      "iii 596\n",
      "iii 597\n",
      "iii 598\n",
      "iii 599\n",
      "iii 600\n",
      "iii 601\n",
      "iii 602\n",
      "iii 603\n",
      "iii 604\n",
      "iii 605\n",
      "iii 606\n",
      "iii 607\n",
      "iii 608\n",
      "iii 609\n",
      "iii 610\n",
      "iii 611\n",
      "iii 612\n",
      "iii 613\n",
      "iii 614\n",
      "iii 615\n",
      "iii 616\n",
      "iii 617\n",
      "iii 618\n",
      "iii 619\n",
      "iii 620\n",
      "iii 621\n",
      "iii 622\n",
      "iii 623\n",
      "iii 624\n",
      "iii 625\n",
      "iii 626\n",
      "iii 627\n",
      "iii 628\n",
      "iii 629\n",
      "iii 630\n",
      "iii 631\n",
      "iii 632\n",
      "iii 633\n",
      "iii 634\n",
      "iii 635\n",
      "iii 636\n",
      "iii 637\n",
      "iii 638\n",
      "iii 639\n",
      "iii 640\n",
      "iii 641\n",
      "iii 642\n",
      "iii 643\n",
      "iii 644\n",
      "iii 645\n",
      "iii 646\n",
      "iii 647\n",
      "iii 648\n",
      "iii 649\n",
      "iii 650\n",
      "iii 651\n",
      "iii 652\n",
      "iii 653\n",
      "iii 654\n",
      "iii 655\n",
      "iii 656\n",
      "iii 657\n",
      "iii 658\n",
      "iii 659\n",
      "iii 660\n",
      "iii 661\n",
      "iii 662\n",
      "iii 663\n",
      "iii 664\n",
      "iii 665\n",
      "iii 666\n",
      "iii 667\n",
      "iii 668\n",
      "iii 669\n",
      "iii 670\n",
      "iii 671\n",
      "iii 672\n",
      "iii 673\n",
      "iii 674\n",
      "iii 675\n",
      "iii 676\n",
      "iii 677\n",
      "iii 678\n",
      "iii 679\n",
      "iii 680\n",
      "iii 681\n",
      "iii 682\n",
      "iii 683\n",
      "iii 684\n",
      "iii 685\n",
      "iii 686\n",
      "iii 687\n",
      "iii 688\n",
      "iii 689\n",
      "iii 690\n",
      "iii 691\n",
      "iii 692\n",
      "iii 693\n",
      "iii 694\n",
      "iii 695\n",
      "iii 696\n",
      "iii 697\n",
      "iii 698\n",
      "iii 699\n",
      "iii 700\n",
      "iii 701\n",
      "iii 702\n",
      "iii 703\n",
      "iii 704\n",
      "iii 705\n",
      "iii 706\n",
      "iii 707\n",
      "iii 708\n",
      "iii 709\n",
      "iii 710\n",
      "iii 711\n",
      "iii 712\n",
      "iii 713\n",
      "iii 714\n",
      "iii 715\n",
      "iii 716\n",
      "iii 717\n",
      "iii 718\n",
      "iii 719\n",
      "iii 720\n",
      "iii 721\n",
      "iii 722\n",
      "iii 723\n",
      "iii 724\n",
      "iii 725\n",
      "iii 726\n",
      "iii 727\n",
      "iii 728\n",
      "iii 729\n",
      "iii 730\n",
      "iii 731\n",
      "iii 732\n",
      "iii 733\n",
      "iii 734\n",
      "iii 735\n",
      "iii 736\n",
      "iii 737\n",
      "iii 738\n",
      "iii 739\n",
      "iii 740\n",
      "iii 741\n",
      "iii 742\n",
      "iii 743\n",
      "iii 744\n",
      "iii 745\n",
      "iii 746\n",
      "iii 747\n",
      "iii 748\n",
      "iii 749\n",
      "iii 750\n",
      "iii 751\n",
      "iii 752\n",
      "iii 753\n",
      "iii 754\n",
      "iii 755\n",
      "iii 756\n",
      "iii 757\n",
      "iii 758\n",
      "iii 759\n",
      "iii 760\n",
      "iii 761\n",
      "iii 762\n",
      "iii 763\n",
      "iii 764\n",
      "iii 765\n",
      "iii 766\n",
      "iii 767\n",
      "iii 768\n",
      "iii 769\n",
      "iii 770\n",
      "iii 771\n",
      "iii 772\n",
      "iii 773\n",
      "iii 774\n",
      "iii 775\n",
      "iii 776\n",
      "iii 777\n",
      "iii 778\n",
      "iii 779\n",
      "iii 780\n",
      "iii 781\n",
      "iii 782\n",
      "iii 783\n",
      "iii 784\n",
      "iii 785\n",
      "iii 786\n",
      "iii 787\n",
      "iii 788\n",
      "iii 789\n",
      "iii 790\n",
      "iii 791\n",
      "iii 792\n",
      "iii 793\n",
      "iii 794\n",
      "iii 795\n",
      "iii 796\n",
      "iii 797\n",
      "iii 798\n",
      "iii 799\n",
      "iii 800\n",
      "iii 801\n",
      "iii 802\n",
      "iii 803\n",
      "iii 804\n",
      "iii 805\n",
      "iii 806\n",
      "iii 807\n",
      "iii 808\n",
      "iii 809\n",
      "iii 810\n",
      "iii 811\n",
      "iii 812\n",
      "iii 813\n",
      "iii 814\n",
      "iii 815\n",
      "iii 816\n",
      "iii 817\n",
      "iii 818\n",
      "iii 819\n",
      "iii 820\n",
      "iii 821\n",
      "iii 822\n",
      "iii 823\n",
      "iii 824\n",
      "iii 825\n",
      "iii 826\n",
      "iii 827\n",
      "iii 828\n",
      "iii 829\n",
      "iii 830\n",
      "iii 831\n",
      "iii 832\n",
      "iii 833\n",
      "iii 834\n",
      "iii 835\n",
      "iii 836\n",
      "iii 837\n",
      "iii 838\n",
      "iii 839\n",
      "iii 840\n",
      "iii 841\n",
      "iii 842\n",
      "iii 843\n",
      "iii 844\n",
      "iii 845\n",
      "iii 846\n",
      "iii 847\n",
      "iii 848\n",
      "iii 849\n",
      "iii 850\n",
      "iii 851\n",
      "iii 852\n",
      "iii 853\n",
      "iii 854\n",
      "iii 855\n",
      "iii 856\n",
      "iii 857\n",
      "iii 858\n",
      "iii 859\n",
      "iii 860\n",
      "iii 861\n",
      "iii 862\n",
      "iii 863\n",
      "iii 864\n",
      "iii 865\n",
      "iii 866\n",
      "iii 867\n",
      "iii 868\n",
      "iii 869\n",
      "iii 870\n",
      "iii 871\n",
      "iii 872\n",
      "iii 873\n",
      "iii 874\n",
      "iii 875\n",
      "iii 876\n",
      "iii 877\n",
      "iii 878\n",
      "iii 879\n",
      "iii 880\n",
      "iii 881\n",
      "iii 882\n",
      "iii 883\n",
      "iii 884\n",
      "iii 885\n",
      "iii 886\n",
      "iii 887\n",
      "iii 888\n",
      "iii 889\n",
      "iii 890\n",
      "iii 891\n",
      "iii 892\n",
      "iii 893\n",
      "iii 894\n",
      "iii 895\n",
      "iii 896\n",
      "iii 897\n",
      "iii 898\n",
      "iii 899\n",
      "iii 900\n",
      "iii 901\n",
      "iii 902\n",
      "iii 903\n",
      "iii 904\n",
      "iii 905\n",
      "iii 906\n",
      "iii 907\n",
      "iii 908\n",
      "iii 909\n",
      "iii 910\n",
      "iii 911\n",
      "iii 912\n",
      "iii 913\n",
      "iii 914\n",
      "iii 915\n",
      "iii 916\n",
      "iii 917\n",
      "iii 918\n",
      "iii 919\n",
      "iii 920\n",
      "iii 921\n",
      "iii 922\n",
      "iii 923\n",
      "iii 924\n",
      "iii 925\n",
      "iii 926\n",
      "iii 927\n",
      "iii 928\n",
      "iii 929\n",
      "iii 930\n",
      "iii 931\n",
      "iii 932\n",
      "iii 933\n",
      "iii 934\n",
      "iii 935\n",
      "iii 936\n",
      "iii 937\n",
      "iii 938\n",
      "iii 939\n",
      "iii 940\n",
      "iii 941\n",
      "iii 942\n",
      "iii 943\n",
      "iii 944\n",
      "iii 945\n",
      "iii 946\n",
      "iii 947\n",
      "iii 948\n",
      "iii 949\n",
      "iii 950\n",
      "iii 951\n",
      "iii 952\n",
      "iii 953\n",
      "iii 954\n",
      "iii 955\n",
      "iii 956\n",
      "iii 957\n",
      "iii 958\n",
      "iii 959\n",
      "iii 960\n",
      "iii 961\n",
      "iii 962\n",
      "iii 963\n",
      "iii 964\n",
      "iii 965\n",
      "iii 966\n",
      "iii 967\n",
      "iii 968\n",
      "iii 969\n",
      "iii 970\n",
      "iii 971\n",
      "iii 972\n",
      "iii 973\n",
      "iii 974\n",
      "iii 975\n",
      "iii 976\n",
      "iii 977\n",
      "iii 978\n",
      "iii 979\n",
      "iii 980\n",
      "iii 981\n",
      "iii 982\n",
      "iii 983\n",
      "iii 984\n",
      "iii 985\n",
      "iii 986\n",
      "iii 987\n",
      "iii 988\n",
      "iii 989\n",
      "iii 990\n",
      "iii 991\n",
      "iii 992\n",
      "iii 993\n",
      "iii 994\n",
      "iii 995\n",
      "iii 996\n",
      "iii 997\n",
      "iii 998\n",
      "iii 999\n",
      "iii 1000\n",
      "iii 1001\n",
      "iii 1002\n",
      "iii 1003\n"
     ]
    }
   ],
   "source": [
    "btch = assemble_ppl.next_batch(1)"
   ]
  },
  {
   "cell_type": "code",
   "execution_count": 204,
   "metadata": {},
   "outputs": [
    {
     "data": {
      "text/plain": [
       "(505, 680, 114)"
      ]
     },
     "execution_count": 204,
     "metadata": {},
     "output_type": "execute_result"
    }
   ],
   "source": [
    "btch.assembled_pred_x.shape"
   ]
  },
  {
   "cell_type": "code",
   "execution_count": 205,
   "metadata": {},
   "outputs": [
    {
     "data": {
      "text/plain": [
       "1004"
      ]
     },
     "execution_count": 205,
     "metadata": {},
     "output_type": "execute_result"
    }
   ],
   "source": [
    "len(pred_pipeline.v(\"result_preds\"))"
   ]
  },
  {
   "cell_type": "code",
   "execution_count": 206,
   "metadata": {},
   "outputs": [
    {
     "data": {
      "text/plain": [
       "[(1617, 2298), (1252, 1756), (510, 621)]"
      ]
     },
     "execution_count": 206,
     "metadata": {},
     "output_type": "execute_result"
    }
   ],
   "source": [
    "ds.iline_crops_info['range']"
   ]
  },
  {
   "cell_type": "code",
   "execution_count": 55,
   "metadata": {},
   "outputs": [
    {
     "data": {
      "text/plain": [
       "(1708, 1162, 508)"
      ]
     },
     "execution_count": 55,
     "metadata": {},
     "output_type": "execute_result"
    }
   ],
   "source": [
    "points = ds.xline_crops_info['range'][0][0], ds.xline_crops_info['range'][1][0], ds.xline_crops_info['range'][2][0]\n",
    "points"
   ]
  },
  {
   "cell_type": "code",
   "execution_count": 56,
   "metadata": {},
   "outputs": [],
   "source": [
    "transforms = [lambda i_: ds.geometries[ds.indices[0]].ilines[i_ + points[0]],\n",
    "              lambda x_: ds.geometries[ds.indices[0]].xlines[x_ + points[1]],\n",
    "              lambda h_: h_ + points[2]]"
   ]
  },
  {
   "cell_type": "code",
   "execution_count": 57,
   "metadata": {},
   "outputs": [],
   "source": [
    "from seismiqb.src.utils import _get_horizons, compare_horizons, dump_horizon, round_to_array, convert_to_numba_dict"
   ]
  },
  {
   "cell_type": "markdown",
   "metadata": {},
   "source": [
    "# save ilines"
   ]
  },
  {
   "cell_type": "code",
   "execution_count": 58,
   "metadata": {},
   "outputs": [
    {
     "data": {
      "text/plain": [
       "<seismiqb.src.cubeset.SeismicCubeset at 0x7f84b864d160>"
      ]
     },
     "execution_count": 58,
     "metadata": {},
     "output_type": "execute_result"
    }
   ],
   "source": [
    "ds.get_point_cloud(btch.assembled_pred_iline, threshold=0.001, dst='predicted_mask_iline',\n",
    "                     coordinates=None, separate=True, transforms=transforms)"
   ]
  },
  {
   "cell_type": "code",
   "execution_count": 60,
   "metadata": {},
   "outputs": [],
   "source": [
    "setattr(ds, 'predicted_mask_iline', {ds.indices[0]: convert_to_numba_dict(ds.predicted_mask_iline[0])})"
   ]
  },
  {
   "cell_type": "markdown",
   "metadata": {},
   "source": [
    "# save xlines"
   ]
  },
  {
   "cell_type": "code",
   "execution_count": 233,
   "metadata": {},
   "outputs": [
    {
     "data": {
      "text/plain": [
       "<seismiqb.src.cubeset.SeismicCubeset at 0x7f9a800e9a58>"
      ]
     },
     "execution_count": 233,
     "metadata": {},
     "output_type": "execute_result"
    }
   ],
   "source": [
    "ds.get_point_cloud(btch.assembled_pred_x, threshold=0.001, dst='predicted_mask_x',\n",
    "                     coordinates=None, separate=True, transforms=transforms)"
   ]
  },
  {
   "cell_type": "code",
   "execution_count": 235,
   "metadata": {},
   "outputs": [],
   "source": [
    "setattr(ds, 'predicted_mask_x', {ds.indices[0]: convert_to_numba_dict(ds.predicted_mask_x[0])})"
   ]
  },
  {
   "cell_type": "code",
   "execution_count": 237,
   "metadata": {},
   "outputs": [
    {
     "data": {
      "text/plain": [
       "15459"
      ]
     },
     "execution_count": 237,
     "metadata": {},
     "output_type": "execute_result"
    }
   ],
   "source": [
    "len(ds.predicted_mask_x[ds.indices[0]])"
   ]
  },
  {
   "cell_type": "code",
   "execution_count": 239,
   "metadata": {},
   "outputs": [
    {
     "data": {
      "text/plain": [
       "30.918"
      ]
     },
     "execution_count": 239,
     "metadata": {},
     "output_type": "execute_result"
    }
   ],
   "source": [
    "15459 / 500"
   ]
  },
  {
   "cell_type": "code",
   "execution_count": 220,
   "metadata": {},
   "outputs": [],
   "source": [
    "expanded_labels = {**ds.predicted_mask_x[0], **ds.prior_mask[ds.indices[0]]}"
   ]
  },
  {
   "cell_type": "code",
   "execution_count": 221,
   "metadata": {},
   "outputs": [
    {
     "data": {
      "text/plain": [
       "260956"
      ]
     },
     "execution_count": 221,
     "metadata": {},
     "output_type": "execute_result"
    }
   ],
   "source": [
    "len(expanded_labels)"
   ]
  },
  {
   "cell_type": "code",
   "execution_count": 222,
   "metadata": {},
   "outputs": [
    {
     "data": {
      "text/plain": [
       "250000"
      ]
     },
     "execution_count": 222,
     "metadata": {},
     "output_type": "execute_result"
    }
   ],
   "source": [
    "len(ds.prior_mask[ds.indices[0]])"
   ]
  },
  {
   "cell_type": "code",
   "execution_count": 223,
   "metadata": {},
   "outputs": [],
   "source": [
    "setattr(ds, 'predicted_mask_x', {ds.indices[0]: convert_to_numba_dict(expanded_labels)})"
   ]
  },
  {
   "cell_type": "code",
   "execution_count": 224,
   "metadata": {},
   "outputs": [
    {
     "data": {
      "text/plain": [
       "1"
      ]
     },
     "execution_count": 224,
     "metadata": {},
     "output_type": "execute_result"
    }
   ],
   "source": [
    "len(ds.predicted_mask_x)"
   ]
  },
  {
   "cell_type": "code",
   "execution_count": 61,
   "metadata": {},
   "outputs": [
    {
     "name": "stdout",
     "output_type": "stream",
     "text": [
      "len  16510\n"
     ]
    },
    {
     "data": {
      "image/png": "[encoded data removed]",
      "text/plain": [
       "<Figure size 864x504 with 1 Axes>"
      ]
     },
     "metadata": {
      "needs_background": "light"
     },
     "output_type": "display_data"
    }
   ],
   "source": [
    "img_res = ds.show_labels(return_image=True, src='predicted_mask_iline')"
   ]
  },
  {
   "cell_type": "code",
   "execution_count": 238,
   "metadata": {},
   "outputs": [
    {
     "name": "stdout",
     "output_type": "stream",
     "text": [
      "len  15459\n"
     ]
    },
    {
     "data": {
      "image/png": "[encoded data removed]",
      "text/plain": [
       "<Figure size 864x504 with 1 Axes>"
      ]
     },
     "metadata": {
      "needs_background": "light"
     },
     "output_type": "display_data"
    }
   ],
   "source": [
    "img_res = ds.show_labels(return_image=True, src='predicted_mask_x')"
   ]
  },
  {
   "cell_type": "code",
   "execution_count": null,
   "metadata": {},
   "outputs": [],
   "source": []
  }
 ],
 "metadata": {
  "kernelspec": {
   "display_name": "Python 3",
   "language": "python",
   "name": "python3"
  },
  "language_info": {
   "codemirror_mode": {
    "name": "ipython",
    "version": 3
   },
   "file_extension": ".py",
   "mimetype": "text/x-python",
   "name": "python",
   "nbconvert_exporter": "python",
   "pygments_lexer": "ipython3",
   "version": "3.5.2"
  }
 },
 "nbformat": 4,
 "nbformat_minor": 2
}
