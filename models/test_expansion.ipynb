{
 "cells": [
  {
   "cell_type": "code",
   "execution_count": 1,
   "metadata": {},
   "outputs": [
    {
     "name": "stdout",
     "output_type": "stream",
     "text": [
      "Wed Oct  9 14:53:20 2019       \n",
      "+-----------------------------------------------------------------------------+\n",
      "| NVIDIA-SMI 410.78       Driver Version: 410.78       CUDA Version: 10.0     |\n",
      "|-------------------------------+----------------------+----------------------+\n",
      "| GPU  Name        Persistence-M| Bus-Id        Disp.A | Volatile Uncorr. ECC |\n",
      "| Fan  Temp  Perf  Pwr:Usage/Cap|         Memory-Usage | GPU-Util  Compute M. |\n",
      "|===============================+======================+======================|\n",
      "|   0  GeForce GTX 1080    Off  | 00000000:03:00.0 Off |                  N/A |\n",
      "| 36%   60C    P2   138W / 200W |   7847MiB /  8119MiB |     77%      Default |\n",
      "+-------------------------------+----------------------+----------------------+\n",
      "|   1  GeForce GTX 1080    Off  | 00000000:04:00.0 Off |                  N/A |\n",
      "| 37%   58C    P2    48W / 200W |   7847MiB /  8119MiB |      0%      Default |\n",
      "+-------------------------------+----------------------+----------------------+\n",
      "|   2  GeForce GTX 1080    Off  | 00000000:07:00.0 Off |                  N/A |\n",
      "|  0%   37C    P8    14W / 200W |   7683MiB /  8119MiB |      0%      Default |\n",
      "+-------------------------------+----------------------+----------------------+\n",
      "|   3  GeForce GTX 1080    Off  | 00000000:08:00.0 Off |                  N/A |\n",
      "|  0%   43C    P8    15W / 200W |   7847MiB /  8119MiB |      0%      Default |\n",
      "+-------------------------------+----------------------+----------------------+\n",
      "|   4  GeForce GTX 1080    Off  | 00000000:83:00.0 Off |                  N/A |\n",
      "|  0%   39C    P0    45W / 200W |      0MiB /  8119MiB |      0%      Default |\n",
      "+-------------------------------+----------------------+----------------------+\n",
      "|   5  GeForce GTX 1080    Off  | 00000000:84:00.0 Off |                  N/A |\n",
      "|  0%   37C    P8    14W / 200W |      0MiB /  8119MiB |      0%      Default |\n",
      "+-------------------------------+----------------------+----------------------+\n",
      "|   6  GeForce GTX 1080    Off  | 00000000:87:00.0 Off |                  N/A |\n",
      "|  0%   40C    P8    14W / 200W |      0MiB /  8119MiB |      0%      Default |\n",
      "+-------------------------------+----------------------+----------------------+\n",
      "|   7  GeForce GTX 1080    Off  | 00000000:88:00.0 Off |                  N/A |\n",
      "|  0%   37C    P8    14W / 200W |   7879MiB /  8119MiB |      0%      Default |\n",
      "+-------------------------------+----------------------+----------------------+\n",
      "                                                                               \n",
      "+-----------------------------------------------------------------------------+\n",
      "| Processes:                                                       GPU Memory |\n",
      "|  GPU       PID   Type   Process name                             Usage      |\n",
      "|=============================================================================|\n",
      "|    7      2552      C   /usr/bin/python3                            7869MiB |\n",
      "+-----------------------------------------------------------------------------+\n"
     ]
    }
   ],
   "source": [
    "!nvidia-smi"
   ]
  },
  {
   "cell_type": "code",
   "execution_count": 14,
   "metadata": {},
   "outputs": [
    {
     "name": "stdout",
     "output_type": "stream",
     "text": [
      "The autoreload extension is already loaded. To reload it, use:\n",
      "  %reload_ext autoreload\n"
     ]
    }
   ],
   "source": [
    "# Necessary imports\n",
    "%load_ext autoreload\n",
    "%autoreload 2\n",
    "import os\n",
    "import sys\n",
    "import logging\n",
    "\n",
    "import numpy as np\n",
    "import tensorflow as tf\n",
    "import matplotlib\n",
    "import matplotlib.pyplot as plt\n",
    "\n",
    "sys.path.append('..')\n",
    "from seismiqb.batchflow import Dataset, Pipeline, FilesIndex\n",
    "from seismiqb.batchflow import B, V, C, L, F, D, P, R, W\n",
    "from seismiqb.batchflow.models.tf import DenseNetFC, TFModel\n",
    "from seismiqb.batchflow.models.tf.layers import conv_block\n",
    "from seismiqb import SeismicCropBatch, SeismicGeometry, SeismicCubeset, plot_loss\n",
    "from seismiqb.batchflow import FilesIndex, Batch, action, inbatch_parallel\n",
    "from seismiqb.batchflow.batch_image import transform_actions # pylint: disable=no-name-in-module,import-error\n",
    "from seismiqb.src.utils import create_mask, aggregate, make_labels_dict, _get_horizons\n",
    "from seismiqb.src.utils import _get_horizons, compare_horizons, dump_horizon, round_to_array, convert_to_numba_dict\n",
    "# from utils import *\n",
    "\n",
    "from glob import glob\n",
    "from tqdm import tqdm\n",
    "\n",
    "import warnings\n",
    "warnings.filterwarnings(\"ignore\")\n",
    "os.environ['TF_CPP_MIN_LOG_LEVEL'] = '3'"
   ]
  },
  {
   "cell_type": "code",
   "execution_count": 3,
   "metadata": {},
   "outputs": [
    {
     "name": "stdout",
     "output_type": "stream",
     "text": [
      "env: CUDA_VISIBLE_DEVICES=4\n"
     ]
    }
   ],
   "source": [
    "%env CUDA_VISIBLE_DEVICES=4"
   ]
  },
  {
   "cell_type": "code",
   "execution_count": 4,
   "metadata": {},
   "outputs": [],
   "source": [
    "# def create_predict_ppl(model_pipeline, crops_gen_name, crop_shape, axes):\n",
    "#     pred_pipeline = (Pipeline()\n",
    "#                          .load_component(src=[D('geometries'), D('labels')],\n",
    "#                                          dst=['geometries', 'labels'])\n",
    "#                          .add_components('predicted_labels')\n",
    "#                          .crop(points=L(D(crops_gen_name)),\n",
    "#                                shape=crop_shape, passdown='predicted_labels')\n",
    "#                          .load_component(src=[D('prior_mask')], dst=['predicted_labels'])\n",
    "#                          .load_cubes(dst='images')\n",
    "#                          .create_masks(dst='masks', width=1, n_horizons=1, src_labels='labels')\n",
    "#                          .create_masks(dst='cut_masks', width=1, n_horizons=1, src_labels='predicted_labels')\n",
    "#                          .apply_transform(np.transpose, axes=axes, src=['images', 'masks', 'cut_masks'])\n",
    "#                          .rotate_axes(src=['images', 'masks', 'cut_masks'])\n",
    "#                          .scale(mode='normalize', src='images')\n",
    "#                          .import_model('extension', model_pipeline)\n",
    "#                          .init_variable('result_preds', default=list())\n",
    "#                          .concat_components(src=('images', 'cut_masks'), dst='model_inputs')\n",
    "#                          .predict_model('extension', fetches='sigmoid',\n",
    "#                                           images=B('model_inputs'),\n",
    "#                                           cut_masks=B('cut_masks'),\n",
    "#                                           save_to=V('result_preds', mode='e')))\n",
    "#     return pred_pipeline\n",
    "\n",
    "# def predict_direction(ds, model_pipeline, dst, direction):\n",
    "#     grid_info = getattr(ds, direction + '_crops_info')\n",
    "#     n_iters = getattr(ds, direction + '_crops_iters')\n",
    "#     order = (2, 0, 1) if direction == 'xline' else (0, 2, 1)\n",
    "#     axes = (0, 1, 2) if direction == 'xline' else (1, 0, 2)\n",
    "\n",
    "#     crops_gen_name = direction + '_crops_gen'\n",
    "\n",
    "#     predict_ppl = create_predict_ppl(model_pipeline, crops_gen_name, grid_info['crop_shape'], axes=axes) << ds\n",
    "    \n",
    "#     for i in range(n_iters):\n",
    "#         pred_batch = predict_ppl.next_batch(1, n_epochs=None)    \n",
    "\n",
    "#     assemble_ppl = Pipeline().assemble_crops(src=predict_ppl.v(\"result_preds\"), dst='assembled_pred',\n",
    "#                                              grid_info=grid_info, order=order) << ds\n",
    "#     btch = assemble_ppl.next_batch(1)\n",
    "#     points = [rng[0] for rng in grid_info['range']]\n",
    "#     transforms = [lambda i_: ds.geometries[ds.indices[0]].ilines[i_ + points[0]],\n",
    "#                         lambda x_: ds.geometries[ds.indices[0]].xlines[x_ + points[1]],\n",
    "#                         lambda h_: h_ + points[2]]\n",
    "    \n",
    "#     ds.get_point_cloud(btch.assembled_pred, threshold=0.001, dst=dst,\n",
    "#                        coordinates=None, separate=True, transforms=transforms)\n",
    "#     merged_dict = {**getattr(ds, dst)[0], **getattr(ds, dst)[1]}\n",
    "#     setattr(ds, dst, {ds.indices[0]: convert_to_numba_dict(merged_dict)})\n",
    "    \n",
    "# def extension_step(ds, img, model_pipeline, crop_shape=(4, 100, 100)):\n",
    "# #     img = ds.show_labels(return_image=True, src='prior_mask', show_plot=False)\n",
    "#     ds = ds.make_expand_grid(ds.indices[0], crop_shape=crop_shape,\n",
    "#                             labels_img=img, labels_idx=1)\n",
    "#     predict_direction(ds, model_pipeline, 'predicted_mask_x', 'xline')\n",
    "#     predict_direction(ds, model_pipeline, 'predicted_mask_iline', 'iline')\n",
    "\n",
    "#     expanded_labels = {**ds.predicted_mask_x[ds.indices[0]], **ds.predicted_mask_iline[ds.indices[0]], **ds.prior_mask[ds.indices[0]]}\n",
    "#     setattr(ds, 'prior_mask', {ds.indices[0]: convert_to_numba_dict(expanded_labels)})\n",
    "    \n",
    "# def expand_cycle(ds, crop_shape=(4, 100, 100)):\n",
    "#     model_pipeline = (Pipeline().load_model('static', TFModel, 'extension', path='./weighted_dice_r_cube/') << ds)\n",
    "#     model_pipeline.next_batch(1)\n",
    "\n",
    "#     for i in range(10):\n",
    "#         img = ds.show_labels(return_image=True, src='prior_mask')\n",
    "#         extension_step(ds, img, model_pipeline, crop_shape=crop_shape)"
   ]
  },
  {
   "cell_type": "code",
   "execution_count": 5,
   "metadata": {},
   "outputs": [],
   "source": [
    "paths_cubes = ['/notebooks/SEISMIC_DATA/CUBE_3/P_cube__copy.hdf5']\n",
    "\n",
    "dsi = FilesIndex(path=paths_cubes, no_ext=True)\n",
    "ds = SeismicCubeset(dsi)\n",
    "ds = ds.load()"
   ]
  },
  {
   "cell_type": "code",
   "execution_count": 6,
   "metadata": {},
   "outputs": [
    {
     "data": {
      "text/plain": [
       "array([1148,  564,  889, 1170, 1170])"
      ]
     },
     "execution_count": 6,
     "metadata": {},
     "output_type": "execute_result"
    }
   ],
   "source": [
    "p_start_points = [1709, 1253, 527]\n",
    "ds.labels[ds.indices[0]][(1709 + ds.geometries[ds.indices[0]].ilines_offset, 1253 + ds.geometries[ds.indices[0]].xlines_offset)]"
   ]
  },
  {
   "cell_type": "code",
   "execution_count": 7,
   "metadata": {},
   "outputs": [
    {
     "name": "stdout",
     "output_type": "stream",
     "text": [
      "hey you\n"
     ]
    },
    {
     "data": {
      "image/png": "[encoded data removed]",
      "text/plain": [
       "<Figure size 432x288 with 1 Axes>"
      ]
     },
     "metadata": {
      "needs_background": "light"
     },
     "output_type": "display_data"
    },
    {
     "data": {
      "text/plain": [
       "<seismiqb.src.cubeset.SeismicCubeset at 0x7fc16c59f240>"
      ]
     },
     "execution_count": 7,
     "metadata": {},
     "output_type": "execute_result"
    }
   ],
   "source": [
    "ds.subset_labels(p_start_points, crop_shape=[500, 500, 100], cube_index=0, show_prior_mask=True)"
   ]
  },
  {
   "cell_type": "code",
   "execution_count": 8,
   "metadata": {},
   "outputs": [
    {
     "data": {
      "text/plain": [
       "'P_cube__copy'"
      ]
     },
     "execution_count": 8,
     "metadata": {},
     "output_type": "execute_result"
    }
   ],
   "source": [
    "ds.indices[0]"
   ]
  },
  {
   "cell_type": "code",
   "execution_count": null,
   "metadata": {},
   "outputs": [
    {
     "name": "stdout",
     "output_type": "stream",
     "text": [
      "INFO:tensorflow:Restoring parameters from ./weighted_dice_r_cube/model-2001\n",
      "len  250000\n"
     ]
    },
    {
     "data": {
      "image/png": "[encoded data removed]",
      "text/plain": [
       "<Figure size 864x504 with 1 Axes>"
      ]
     },
     "metadata": {
      "needs_background": "light"
     },
     "output_type": "display_data"
    },
    {
     "name": "stdout",
     "output_type": "stream",
     "text": [
      "len  287713\n"
     ]
    },
    {
     "data": {
      "image/png": "[encoded data removed]",
      "text/plain": [
       "<Figure size 864x504 with 1 Axes>"
      ]
     },
     "metadata": {
      "needs_background": "light"
     },
     "output_type": "display_data"
    }
   ],
   "source": [
    "ds.expand_cycle(ds.indices[0], crop_shape=(4, 100, 100), path='./weighted_dice_r_cube/', return_image=True, n_iters=10)"
   ]
  },
  {
   "cell_type": "code",
   "execution_count": null,
   "metadata": {},
   "outputs": [],
   "source": []
  },
  {
   "cell_type": "code",
   "execution_count": null,
   "metadata": {},
   "outputs": [],
   "source": []
  },
  {
   "cell_type": "code",
   "execution_count": null,
   "metadata": {},
   "outputs": [],
   "source": [
    "# expand_cycle(ds, crop_shape=(4, 100, 100))"
   ]
  },
  {
   "cell_type": "code",
   "execution_count": null,
   "metadata": {},
   "outputs": [],
   "source": []
  },
  {
   "cell_type": "code",
   "execution_count": null,
   "metadata": {},
   "outputs": [],
   "source": []
  },
  {
   "cell_type": "code",
   "execution_count": null,
   "metadata": {},
   "outputs": [],
   "source": []
  },
  {
   "cell_type": "code",
   "execution_count": null,
   "metadata": {},
   "outputs": [],
   "source": []
  },
  {
   "cell_type": "code",
   "execution_count": null,
   "metadata": {},
   "outputs": [],
   "source": []
  },
  {
   "cell_type": "code",
   "execution_count": null,
   "metadata": {},
   "outputs": [],
   "source": []
  },
  {
   "cell_type": "code",
   "execution_count": null,
   "metadata": {},
   "outputs": [],
   "source": []
  },
  {
   "cell_type": "code",
   "execution_count": 8,
   "metadata": {},
   "outputs": [],
   "source": [
    "a = np.zeros((20, 10, 2))"
   ]
  },
  {
   "cell_type": "code",
   "execution_count": 18,
   "metadata": {},
   "outputs": [],
   "source": [
    "slc = [slice(0, 5), slice(0, 4), slice(None, None)]"
   ]
  },
  {
   "cell_type": "code",
   "execution_count": 19,
   "metadata": {},
   "outputs": [
    {
     "data": {
      "text/plain": [
       "(5, 4, 2)"
      ]
     },
     "execution_count": 19,
     "metadata": {},
     "output_type": "execute_result"
    }
   ],
   "source": [
    "a[slc].shape"
   ]
  },
  {
   "cell_type": "code",
   "execution_count": null,
   "metadata": {},
   "outputs": [],
   "source": []
  }
 ],
 "metadata": {
  "kernelspec": {
   "display_name": "Python 3",
   "language": "python",
   "name": "python3"
  },
  "language_info": {
   "codemirror_mode": {
    "name": "ipython",
    "version": 3
   },
   "file_extension": ".py",
   "mimetype": "text/x-python",
   "name": "python",
   "nbconvert_exporter": "python",
   "pygments_lexer": "ipython3",
   "version": "3.5.2"
  }
 },
 "nbformat": 4,
 "nbformat_minor": 2
}
