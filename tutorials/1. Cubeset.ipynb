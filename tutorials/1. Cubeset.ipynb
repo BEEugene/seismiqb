{
 "cells": [
  {
   "cell_type": "markdown",
   "metadata": {},
   "source": [
    "# Seismic Cubeset tutorial"
   ]
  },
  {
   "cell_type": "markdown",
   "metadata": {},
   "source": [
    "Welcome! This notebook shows how to use `SeismicCubeset` class to hold information about .sgy/.hdf5 cubes. Also, utilitary class `SeismicGeometry` is demonstrated."
   ]
  },
  {
   "cell_type": "code",
   "execution_count": 1,
   "metadata": {},
   "outputs": [],
   "source": [
    "# Necessary modules\n",
    "import os\n",
    "import sys\n",
    "from glob import glob\n",
    "\n",
    "sys.path.append('..')\n",
    "from seismiqb.batchflow import FilesIndex\n",
    "from seismiqb import SeismicGeometry, SeismicCubeset"
   ]
  },
  {
   "cell_type": "markdown",
   "metadata": {},
   "source": [
    "## First of all, lets create instance of `SeismicCubeset` from `FilesIndex`:"
   ]
  },
  {
   "cell_type": "code",
   "execution_count": 2,
   "metadata": {},
   "outputs": [
    {
     "name": "stdout",
     "output_type": "stream",
     "text": [
      "['E_anon' 'P_cube' 'R_cube']\n"
     ]
    }
   ],
   "source": [
    "path_data_0 = '/notebooks/SEISMIC_DATA/CUBE_1/E_anon.sgy'\n",
    "path_data_1 = '/notebooks/SEISMIC_DATA/CUBE_3/P_cube.sgy'\n",
    "path_data_2 = '/notebooks/SEISMIC_DATA/CUBE_4/R_cube.sgy'\n",
    "\n",
    "dsi = FilesIndex(path=[path_data_0, path_data_1, path_data_2], no_ext=True)\n",
    "ds = SeismicCubeset(dsi)\n",
    "\n",
    "print(ds.indices)"
   ]
  },
  {
   "cell_type": "markdown",
   "metadata": {},
   "source": [
    "#### `SeismicGeometry` class is used as a container for lots of information: cube shapes, exact coordinates, minimum/maximum value in cube and so on. To get it, use method `load_geometries`:"
   ]
  },
  {
   "cell_type": "code",
   "execution_count": 4,
   "metadata": {},
   "outputs": [
    {
     "name": "stderr",
     "output_type": "stream",
     "text": [
      "Working with E_anon.sgy: 100%|██████████| 3611267/3611267 [01:41<00:00, 35447.76it/s]\n",
      "Working with P_cube.sgy: 100%|██████████| 7113463/7113463 [04:18<00:00, 27488.62it/s]\n",
      "Working with R_cube.sgy: 100%|██████████| 2031360/2031360 [00:58<00:00, 34614.58it/s]\n"
     ]
    }
   ],
   "source": [
    "ds = ds.load_geometries()\n",
    "# ~ 11 minutes"
   ]
  },
  {
   "cell_type": "markdown",
   "metadata": {},
   "source": [
    "Wow, that takes a lot of time! Even considering total size of cubes, which is almost 100GB, that is bit too much..\n",
    "\n",
    "**Note:** `load_geometries` makes one full pass through every cube in index. That is why it takes a lot of time, but, at the same time, it does not load more than one trace at a time in memory.\n",
    "\n",
    "Don't worry though: by the end of this tutorial you will learn how to do it 1000 times faster!\n",
    "\n",
    "\n",
    "\n",
    "#### Now, lets use not only cubes, but labeled horizonts.\n",
    "\n",
    "Next two methods, `load_point_clouds` and `load_labels` result in creating `numba.Dict` with mapping from (iline, xline) to heights of horizonts. You need to pass mapping from cube names in index to location of .txt files to `load_point_clouds`.\n",
    "\n",
    "**Note:** due to big amount of .txt files with labels for every cube it is crucial to have well-thought-out file structure."
   ]
  },
  {
   "cell_type": "code",
   "execution_count": 4,
   "metadata": {},
   "outputs": [],
   "source": [
    "paths_txt = {ds.indices[0]: glob('/notebooks/SEISMIC_DATA/CUBE_1/HORIZONTS/*.txt'),\n",
    "             ds.indices[1]: glob('/notebooks/SEISMIC_DATA/CUBE_3/HORIZONTS/*.txt'),\n",
    "             ds.indices[2]: glob('/notebooks/SEISMIC_DATA/CUBE_4/HORIZONTS/*.txt')}\n",
    "\n",
    "ds = (ds.load_point_clouds(paths = paths_txt)\n",
    "        .load_labels())"
   ]
  },
  {
   "cell_type": "markdown",
   "metadata": {},
   "source": [
    "\n",
    "#### As we know, many cubes are not fully-labeled: some of ilines/xlines are missing. It might be a good idea to check where labels are present, and where not:\n",
    "\n",
    "**Note:** argument to `show_labels` is cube identificator from index of `Cubeset`, not path to the file itself."
   ]
  },
  {
   "cell_type": "code",
   "execution_count": 5,
   "metadata": {},
   "outputs": [
    {
     "name": "stdout",
     "output_type": "stream",
     "text": [
      "Showing labels from above for Repaired_cube\n"
     ]
    },
    {
     "data": {
      "image/png": "[encoded data removed]",
      "text/plain": [
       "<Figure size 864x504 with 1 Axes>"
      ]
     },
     "metadata": {
      "needs_background": "light"
     },
     "output_type": "display_data"
    }
   ],
   "source": [
    "ds.show_labels('Repaired_cube')"
   ]
  },
  {
   "cell_type": "markdown",
   "metadata": {},
   "source": [
    "Looks like a lot of absent labels! If we are to cut crops from places without labels and train neural network on it, it would be detrimental to its quality.\n",
    "\n",
    "#### That is why we provide `load_samplers` method: it creates instance of `Sampler`, that generates points from labeled places (or very close to them).\n",
    "\n",
    "**Note:** default behaviour is to sample points with equal probability from every cube, according to this cube labels destribution. You can also change proportion between cubes or use different sampling strategy. To learn more about this, check [documentation.](https://github.com/analysiscenter/seismiqb/blob/master/seismiqb/src/cubeset.py#L158)"
   ]
  },
  {
   "cell_type": "code",
   "execution_count": 6,
   "metadata": {},
   "outputs": [
    {
     "name": "stdout",
     "output_type": "stream",
     "text": [
      "['P_cube' 0.3606150565934787 0.40971822648502304 0.2842915456421414]\n",
      "['E_anon' 0.1864258474657425 0.8034747284888155 0.3609639398234168]\n",
      "['E_anon' 0.7417793939615868 0.08899496781997508 0.7311262409395584]\n",
      "['Repaired_cube' 0.23042543223427098 0.9012162747107946\n",
      " 0.21384487076670539]\n",
      "['Repaired_cube' 0.43748804008425424 0.7360380757063698 0.4993298427927187]\n"
     ]
    }
   ],
   "source": [
    "ds = ds.load_samplers()\n",
    "\n",
    "_ = [print(item) for item in ds.sampler.sample(5)]"
   ]
  },
  {
   "cell_type": "markdown",
   "metadata": {},
   "source": [
    "As you can see, each sampled point contains reference to cube it was cut from. That is necessary so that further methods know from where to load data.\n",
    "\n",
    "Next three values are iline, xline, and height, scaled to [0, 1] range. That is done in order to abstract from different shapes of each cube and use one common syntax for all of them."
   ]
  },
  {
   "cell_type": "markdown",
   "metadata": {},
   "source": [
    "#### Lets look on some of the attributes of our `Cubeset`:"
   ]
  },
  {
   "cell_type": "code",
   "execution_count": 7,
   "metadata": {},
   "outputs": [
    {
     "name": "stdout",
     "output_type": "stream",
     "text": [
      "\n",
      "Geometries:\n",
      "E_anon <class 'seismiqb.src.geometry.SeismicGeometry'>\n",
      "P_cube <class 'seismiqb.src.geometry.SeismicGeometry'>\n",
      "Repaired_cube <class 'seismiqb.src.geometry.SeismicGeometry'>\n",
      "\n",
      "Point clouds:\n",
      "E_anon <class 'numpy.ndarray'>\n",
      "P_cube <class 'numpy.ndarray'>\n",
      "Repaired_cube <class 'numpy.ndarray'>\n",
      "\n",
      "Labels:\n",
      "E_anon <class 'numba.typed.typeddict.Dict'>\n",
      "P_cube <class 'numba.typed.typeddict.Dict'>\n",
      "Repaired_cube <class 'numba.typed.typeddict.Dict'>\n",
      "\n",
      "Samplers:\n",
      "E_anon <class 'seismiqb.batchflow.batchflow.sampler.Sampler'>\n",
      "P_cube <class 'seismiqb.batchflow.batchflow.sampler.Sampler'>\n",
      "Repaired_cube <class 'seismiqb.batchflow.batchflow.sampler.Sampler'>\n"
     ]
    }
   ],
   "source": [
    "print('\\nGeometries:')\n",
    "_ = [print(key, type(value)) for key, value in ds.geometries.items()]\n",
    "\n",
    "print('\\nPoint clouds:')\n",
    "_ = [print(key, type(value)) for key, value in ds.point_clouds.items()]\n",
    "\n",
    "print('\\nLabels:')\n",
    "_ = [print(key, type(value)) for key, value in ds.labels.items()]\n",
    "\n",
    "print('\\nSamplers:')\n",
    "_ = [print(key, type(value)) for key, value in ds.samplers.items()]"
   ]
  },
  {
   "cell_type": "markdown",
   "metadata": {},
   "source": [
    "#### Each of those entity is mapping from cube identificator. We provide methods to store them: for example, `save_point_clouds` does exactly what you would expect:"
   ]
  },
  {
   "cell_type": "code",
   "execution_count": 8,
   "metadata": {},
   "outputs": [],
   "source": [
    "path_pc_saved = '/notebooks/SEISMIC_DATA/SAVED/DEMO/point_clouds.dill'\n",
    "ds = ds.save_point_clouds(save_to=path_pc_saved)"
   ]
  },
  {
   "cell_type": "markdown",
   "metadata": {},
   "source": [
    "#### To load entity from disk, pass `load_from` argument to `load_point_clouds` method."
   ]
  },
  {
   "cell_type": "code",
   "execution_count": 9,
   "metadata": {},
   "outputs": [
    {
     "name": "stdout",
     "output_type": "stream",
     "text": [
      "CPU times: user 256 ms, sys: 1.9 s, total: 2.15 s\n",
      "Wall time: 2.15 s\n"
     ]
    }
   ],
   "source": [
    "%%time\n",
    "ds = ds.load_point_clouds(load_from=path_pc_saved)"
   ]
  },
  {
   "cell_type": "markdown",
   "metadata": {},
   "source": [
    "**Note:** similar functionality is present for `load_geometries`, `load_labels` and `load_samplers`."
   ]
  },
  {
   "cell_type": "markdown",
   "metadata": {},
   "source": [
    "# HDF5\n",
    "Storing created geometries, labels and samplers is definetely faster, than inferring them every time. That does not mean that there is no room to improve!"
   ]
  },
  {
   "cell_type": "markdown",
   "metadata": {},
   "source": [
    "#### First of all, lets convert our .sgy cubes to .hdf5 format\n",
    "\n",
    "**Note:** by default, cubes in new format saved on disk right next to their .sgy counterpart."
   ]
  },
  {
   "cell_type": "code",
   "execution_count": null,
   "metadata": {},
   "outputs": [],
   "source": [
    "ds = ds.convert_to_h5py()"
   ]
  },
  {
   "cell_type": "markdown",
   "metadata": {},
   "source": [
    "It takes some time, but this method needs to be called only once.\n",
    "\n",
    "#### Lets check how `load_geometries` fares:"
   ]
  },
  {
   "cell_type": "code",
   "execution_count": 10,
   "metadata": {},
   "outputs": [
    {
     "name": "stdout",
     "output_type": "stream",
     "text": [
      "CPU times: user 560 ms, sys: 236 ms, total: 796 ms\n",
      "Wall time: 788 ms\n"
     ]
    }
   ],
   "source": [
    "%%time\n",
    "path_data_0 = '/notebooks/SEISMIC_DATA/CUBE_1/E_anon.hdf5'\n",
    "path_data_1 = '/notebooks/SEISMIC_DATA/CUBE_3/P_cube.hdf5'\n",
    "path_data_2 = '/notebooks/SEISMIC_DATA/CUBE_4/R_cube.hdf5'\n",
    "\n",
    "dsi = FilesIndex(path=[path_data_0, path_data_1, path_data_2], no_ext=True)\n",
    "ds = SeismicCubeset(dsi)\n",
    "\n",
    "ds = ds.load_geometries()"
   ]
  },
  {
   "cell_type": "markdown",
   "metadata": {},
   "source": [
    "Almost instant!"
   ]
  }
 ],
 "metadata": {
  "kernelspec": {
   "display_name": "Python 3",
   "language": "python",
   "name": "python3"
  },
  "language_info": {
   "codemirror_mode": {
    "name": "ipython",
    "version": 3
   },
   "file_extension": ".py",
   "mimetype": "text/x-python",
   "name": "python",
   "nbconvert_exporter": "python",
   "pygments_lexer": "ipython3",
   "version": "3.5.2"
  },
  "varInspector": {
   "cols": {
    "lenName": 16,
    "lenType": 16,
    "lenVar": 40
   },
   "kernels_config": {
    "python": {
     "delete_cmd_postfix": "",
     "delete_cmd_prefix": "del ",
     "library": "var_list.py",
     "varRefreshCmd": "print(var_dic_list())"
    },
    "r": {
     "delete_cmd_postfix": ") ",
     "delete_cmd_prefix": "rm(",
     "library": "var_list.r",
     "varRefreshCmd": "cat(var_dic_list()) "
    }
   },
   "types_to_exclude": [
    "module",
    "function",
    "builtin_function_or_method",
    "instance",
    "_Feature"
   ],
   "window_display": false
  }
 },
 "nbformat": 4,
 "nbformat_minor": 2
}
